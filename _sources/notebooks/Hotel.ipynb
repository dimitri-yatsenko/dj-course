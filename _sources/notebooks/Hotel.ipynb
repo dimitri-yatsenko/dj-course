{
 "cells": [
  {
   "cell_type": "markdown",
   "id": "6e26075b",
   "metadata": {},
   "source": [
    "# Hotel Database\n",
    "## Assignment\n",
    "\n",
    "Design, populate, and query a database for a hotel reservation system with the following business rules:\n",
    "\n",
    "1. The hotel has a number of rooms of two types: Deluxe and Suite\n",
    "2. For every night, some rooms are made available for reservation for a specific price.\n",
    "3. A guest can make a reservation for an avavilable room for one night. The reservation must include credit card payment info. At most one reservation can be made per night per room.\n",
    "4. A guest can check into a room that has been reserved. An attempt to check in without a reservation will generate an error.\n",
    "5. A guest can check out only after checking in. An attempt to check out multiple times or check out without checking in will generate an error.\n",
    "\n",
    "Your Python code should provide the following:\n",
    "\n",
    "1. A section to create the tables. The design must be in 3rd normal form following the conventions discussed in class and enforcing the business rules above.\n",
    "\n",
    "2. Provide code to populate rooms and room availability with prices.\n",
    "\n",
    "3. The function `reserve_room(room, date, guest_name, credit_card)` to make a reservation. A script that populates at least 300 reservations (e.g. use `faker`)\n",
    "\n",
    "4. The functions `checkin(room, date)` and `checkout(room, date)` to check guests in and out. Write a script that invokes `checkin` and `checkout` for a buncha guests.  Demonstrate that that the functions enforces the rules of the business.\n",
    "\n",
    "5. Write a query to list all guests who have stayed in a given room in 2021.\n",
    "\n",
    "6. Write a query to list all dates on which a specific guest stayed at the hotel.\n",
    "\n"
   ]
  },
  {
   "cell_type": "markdown",
   "id": "33e46762",
   "metadata": {},
   "source": [
    "# Define the database"
   ]
  },
  {
   "cell_type": "code",
   "execution_count": 1,
   "id": "fc703fb8",
   "metadata": {},
   "outputs": [
    {
     "name": "stderr",
     "output_type": "stream",
     "text": [
      "[2022-11-01 18:06:42,412][INFO]: Connecting dimitri@db.ust-data-sci.net:3306\n",
      "[2022-11-01 18:06:42,805][INFO]: Connected dimitri@db.ust-data-sci.net:3306\n"
     ]
    }
   ],
   "source": [
    "import datajoint as dj\n",
    "schema = dj.Schema('shared_hotel')"
   ]
  },
  {
   "cell_type": "code",
   "execution_count": 2,
   "id": "62d97e04",
   "metadata": {},
   "outputs": [],
   "source": [
    "@schema\n",
    "class Room(dj.Manual):\n",
    "    definition = \"\"\"\n",
    "    room : int\n",
    "    --- \n",
    "    room_type : enum('Deluxe', 'Suite')\n",
    "    \"\"\""
   ]
  },
  {
   "cell_type": "code",
   "execution_count": 3,
   "id": "280e7440",
   "metadata": {},
   "outputs": [],
   "source": [
    "@schema\n",
    "class RoomAvailable(dj.Manual):\n",
    "    definition = \"\"\"\n",
    "    -> Room\n",
    "    date : date \n",
    "    ---\n",
    "    price : decimal(6, 2)\n",
    "    \"\"\""
   ]
  },
  {
   "cell_type": "code",
   "execution_count": 4,
   "id": "dc952e39",
   "metadata": {},
   "outputs": [],
   "source": [
    "@schema\n",
    "class Guest(dj.Manual):\n",
    "    definition = \"\"\"\n",
    "    guest_id : int unsigned\n",
    "    --- \n",
    "    guest_name : varchar(60)\n",
    "    index(guest_name)\n",
    "    \"\"\""
   ]
  },
  {
   "cell_type": "code",
   "execution_count": 5,
   "id": "14929f5b",
   "metadata": {},
   "outputs": [],
   "source": [
    "@schema\n",
    "class Reservation(dj.Manual):\n",
    "    definition = \"\"\"\n",
    "    -> RoomAvailable\n",
    "    ---\n",
    "    -> Guest\n",
    "    credit_card : varchar(80)\n",
    "    \"\"\""
   ]
  },
  {
   "cell_type": "code",
   "execution_count": 6,
   "id": "61f03f74",
   "metadata": {},
   "outputs": [],
   "source": [
    "@schema\n",
    "class CheckIn(dj.Manual):\n",
    "    definition = \"\"\"\n",
    "    -> Reservation\n",
    "    \"\"\""
   ]
  },
  {
   "cell_type": "code",
   "execution_count": 7,
   "id": "c163c97c",
   "metadata": {},
   "outputs": [],
   "source": [
    "@schema\n",
    "class CheckOut(dj.Manual):\n",
    "    definition = \"\"\"\n",
    "    -> CheckIn\n",
    "    \"\"\""
   ]
  },
  {
   "cell_type": "code",
   "execution_count": 8,
   "id": "c98936a8",
   "metadata": {},
   "outputs": [
    {
     "data": {
      "image/svg+xml": [
       "<svg xmlns=\"http://www.w3.org/2000/svg\" xmlns:xlink=\"http://www.w3.org/1999/xlink\" width=\"172pt\" height=\"327pt\" viewBox=\"0.00 0.00 172.00 327.00\">\n",
       "<g id=\"graph0\" class=\"graph\" transform=\"scale(1 1) rotate(0) translate(4 323)\">\n",
       "<polygon fill=\"white\" stroke=\"none\" points=\"-4,4 -4,-323 168,-323 168,4 -4,4\"/>\n",
       "<!-- CheckOut -->\n",
       "<g id=\"node1\" class=\"node\">\n",
       "<title>CheckOut</title>\n",
       "<g id=\"a_node1\"><a xlink:title=\"→ CheckIn\r",
       "\">\n",
       "<polygon fill=\"#00ff00\" fill-opacity=\"0.188235\" stroke=\"#00ff00\" stroke-opacity=\"0.188235\" points=\"129,-35 59,-35 59,0 129,0 129,-35\"/>\n",
       "<text text-anchor=\"middle\" x=\"94\" y=\"-14.4\" font-family=\"arial\" font-size=\"12.00\" fill=\"darkgreen\">CheckOut</text>\n",
       "</a>\n",
       "</g>\n",
       "</g>\n",
       "<!-- RoomAvailable -->\n",
       "<g id=\"node2\" class=\"node\">\n",
       "<title>RoomAvailable</title>\n",
       "<g id=\"a_node2\"><a xlink:title=\"→ Room\r",
       "date                 \r",
       "------------------------------\r",
       "price                \r",
       "\">\n",
       "<polygon fill=\"#00ff00\" fill-opacity=\"0.188235\" stroke=\"#00ff00\" stroke-opacity=\"0.188235\" points=\"98,-248 0,-248 0,-213 98,-213 98,-248\"/>\n",
       "<text text-anchor=\"start\" x=\"8\" y=\"-228.4\" font-family=\"arial\" text-decoration=\"underline\" font-size=\"12.00\" fill=\"darkgreen\">RoomAvailable</text>\n",
       "</a>\n",
       "</g>\n",
       "</g>\n",
       "<!-- Reservation -->\n",
       "<g id=\"node5\" class=\"node\">\n",
       "<title>Reservation</title>\n",
       "<g id=\"a_node5\"><a xlink:title=\"→ RoomAvailable\r",
       "------------------------------\r",
       "→ Guest\r",
       "credit_card          \r",
       "\">\n",
       "<polygon fill=\"#00ff00\" fill-opacity=\"0.188235\" stroke=\"#00ff00\" stroke-opacity=\"0.188235\" points=\"134.5,-177 53.5,-177 53.5,-142 134.5,-142 134.5,-177\"/>\n",
       "<text text-anchor=\"middle\" x=\"94\" y=\"-156.4\" font-family=\"arial\" font-size=\"12.00\" fill=\"darkgreen\">Reservation</text>\n",
       "</a>\n",
       "</g>\n",
       "</g>\n",
       "<!-- RoomAvailable&#45;&gt;Reservation -->\n",
       "<g id=\"edge1\" class=\"edge\">\n",
       "<title>RoomAvailable-&gt;Reservation</title>\n",
       "<path fill=\"none\" stroke=\"#000000\" stroke-width=\"2\" stroke-opacity=\"0.250980\" d=\"M59.89,-212.8C66.97,-201.95 76.15,-187.87 83.21,-177.05\"/>\n",
       "</g>\n",
       "<!-- CheckIn -->\n",
       "<g id=\"node3\" class=\"node\">\n",
       "<title>CheckIn</title>\n",
       "<g id=\"a_node3\"><a xlink:title=\"→ Reservation\r",
       "\">\n",
       "<polygon fill=\"#00ff00\" fill-opacity=\"0.188235\" stroke=\"#00ff00\" stroke-opacity=\"0.188235\" points=\"124.5,-106 63.5,-106 63.5,-71 124.5,-71 124.5,-106\"/>\n",
       "<text text-anchor=\"middle\" x=\"94\" y=\"-85.4\" font-family=\"arial\" font-size=\"12.00\" fill=\"darkgreen\">CheckIn</text>\n",
       "</a>\n",
       "</g>\n",
       "</g>\n",
       "<!-- CheckIn&#45;&gt;CheckOut -->\n",
       "<g id=\"edge2\" class=\"edge\">\n",
       "<title>CheckIn-&gt;CheckOut</title>\n",
       "<path fill=\"none\" stroke=\"#000000\" stroke-width=\"2\" stroke-opacity=\"0.250980\" d=\"M94,-70.8C94,-59.95 94,-45.87 94,-35.05\"/>\n",
       "</g>\n",
       "<!-- Guest -->\n",
       "<g id=\"node4\" class=\"node\">\n",
       "<title>Guest</title>\n",
       "<g id=\"a_node4\"><a xlink:title=\"guest_id             \r",
       "------------------------------\r",
       "guest_name           \r",
       "INDEX (guest_name)\r",
       "\">\n",
       "<polygon fill=\"#00ff00\" fill-opacity=\"0.188235\" stroke=\"#00ff00\" stroke-opacity=\"0.188235\" points=\"164,-248 116,-248 116,-213 164,-213 164,-248\"/>\n",
       "<text text-anchor=\"start\" x=\"124\" y=\"-228.4\" font-family=\"arial\" text-decoration=\"underline\" font-size=\"12.00\" fill=\"darkgreen\">Guest</text>\n",
       "</a>\n",
       "</g>\n",
       "</g>\n",
       "<!-- Guest&#45;&gt;Reservation -->\n",
       "<g id=\"edge3\" class=\"edge\">\n",
       "<title>Guest-&gt;Reservation</title>\n",
       "<path fill=\"none\" stroke=\"#000000\" stroke-width=\"0.75\" stroke-dasharray=\"5,2\" stroke-opacity=\"0.250980\" d=\"M128.86,-212.8C121.63,-201.95 112.24,-187.87 105.03,-177.05\"/>\n",
       "</g>\n",
       "<!-- Reservation&#45;&gt;CheckIn -->\n",
       "<g id=\"edge4\" class=\"edge\">\n",
       "<title>Reservation-&gt;CheckIn</title>\n",
       "<path fill=\"none\" stroke=\"#000000\" stroke-width=\"2\" stroke-opacity=\"0.250980\" d=\"M94,-141.8C94,-130.95 94,-116.87 94,-106.05\"/>\n",
       "</g>\n",
       "<!-- Room -->\n",
       "<g id=\"node6\" class=\"node\">\n",
       "<title>Room</title>\n",
       "<g id=\"a_node6\"><a xlink:title=\"room                 \r",
       "------------------------------\r",
       "room_type            \r",
       "\">\n",
       "<polygon fill=\"#00ff00\" fill-opacity=\"0.188235\" stroke=\"#00ff00\" stroke-opacity=\"0.188235\" points=\"73.5,-319 24.5,-319 24.5,-284 73.5,-284 73.5,-319\"/>\n",
       "<text text-anchor=\"start\" x=\"32.5\" y=\"-299.4\" font-family=\"arial\" text-decoration=\"underline\" font-size=\"12.00\" fill=\"darkgreen\">Room</text>\n",
       "</a>\n",
       "</g>\n",
       "</g>\n",
       "<!-- Room&#45;&gt;RoomAvailable -->\n",
       "<g id=\"edge5\" class=\"edge\">\n",
       "<title>Room-&gt;RoomAvailable</title>\n",
       "<path fill=\"none\" stroke=\"#000000\" stroke-width=\"0.75\" stroke-opacity=\"0.250980\" d=\"M49,-283.8C49,-272.95 49,-258.87 49,-248.05\"/>\n",
       "</g>\n",
       "</g>\n",
       "</svg>"
      ],
      "text/plain": [
       "<datajoint.diagram.Diagram at 0x7faa58afe830>"
      ]
     },
     "execution_count": 8,
     "metadata": {},
     "output_type": "execute_result"
    }
   ],
   "source": [
    "dj.Diagram(schema)"
   ]
  },
  {
   "cell_type": "markdown",
   "id": "3bab6ec9",
   "metadata": {},
   "source": [
    "# Populate Room Availability"
   ]
  },
  {
   "cell_type": "code",
   "execution_count": 9,
   "id": "64060872",
   "metadata": {},
   "outputs": [],
   "source": [
    "import faker\n",
    "import random\n",
    "import datetime\n",
    "import tqdm\n",
    "fake = faker.Faker()"
   ]
  },
  {
   "cell_type": "code",
   "execution_count": 10,
   "id": "281c8ca7",
   "metadata": {},
   "outputs": [],
   "source": [
    "# populate rooms\n",
    "Room.insert((i, \"Deluxe\" if i%2 else \"Suite\") for i in range(80))"
   ]
  },
  {
   "cell_type": "code",
   "execution_count": 11,
   "id": "86bc4436",
   "metadata": {},
   "outputs": [
    {
     "name": "stderr",
     "output_type": "stream",
     "text": [
      "100%|██████████████████████████████████████████████████████████████████████████████████████████████████████████████████████████████████████████████████████████████████| 45/45 [00:03<00:00, 11.92it/s]\n"
     ]
    }
   ],
   "source": [
    "# Populate Room availability: 45 days starting on start_date\n",
    "start_date = datetime.date(2021, 10, 1)\n",
    "days = 45\n",
    "\n",
    "for day in tqdm.tqdm(range(days)):\n",
    "    price = random.randint(40, 350) \n",
    "    RoomAvailable.insert(\n",
    "        dict(key, \n",
    "             date=start_date + datetime.timedelta(days=day), \n",
    "             price=price) for key in Room.fetch('KEY'))\n",
    "    "
   ]
  },
  {
   "cell_type": "markdown",
   "id": "4deda107",
   "metadata": {},
   "source": [
    "# Functions "
   ]
  },
  {
   "cell_type": "code",
   "execution_count": 14,
   "id": "48470620",
   "metadata": {},
   "outputs": [],
   "source": [
    "class HotelException(Exception): pass\n",
    "class RoomUnavailable(HotelException): pass\n",
    "class RoomAlreadyReserved(HotelException): pass\n",
    "class AlreadyChecked(HotelException): pass\n",
    "class NoReservation(HotelException): pass\n",
    "class NotCheckedIn(HotelException): pass"
   ]
  },
  {
   "cell_type": "code",
   "execution_count": 15,
   "id": "5603309c",
   "metadata": {},
   "outputs": [],
   "source": [
    "def reserve_room(room, date, guest_name, credit_card):\n",
    "    # lookup guest by name\n",
    "    keys = (Guest & {'guest_name': guest_name}).fetch('KEY')\n",
    "    \n",
    "    if keys:\n",
    "        # if multiple found, use the first, for example\n",
    "        key = keys[0]  \n",
    "    else:\n",
    "        # if not registered before, create a new guest id\n",
    "        key = dict(guest_id=random.randint(0, 2**32-1))\n",
    "        Guest.insert1(dict(key, guest_name=guest_name))\n",
    "    \n",
    "    try:\n",
    "        Reservation.insert1(\n",
    "            dict(key, room=room, date=date, credit_card=credit_card))\n",
    "    except dj.errors.DuplicateError:\n",
    "        raise RoomAlreadyReserved(room, date.isoformat()) from None\n",
    "    except dj.errors.IntegrityError:\n",
    "        raise RoomUnavailable(room, date.isoformat()) from None"
   ]
  },
  {
   "cell_type": "code",
   "execution_count": 16,
   "id": "fd3b9e30",
   "metadata": {},
   "outputs": [],
   "source": [
    "def check_in(room, date):\n",
    "    try:\n",
    "        CheckIn.insert1(dict(room=room, date=date))\n",
    "    except dj.errors.DuplicateError:\n",
    "        raise AlreadyChecked(room, date.isoformat()) from None\n",
    "    except dj.errors.IntegrityError:\n",
    "        raise NoReservation(room, date.isoformat()) from None"
   ]
  },
  {
   "cell_type": "code",
   "execution_count": 17,
   "id": "09e340e2",
   "metadata": {},
   "outputs": [],
   "source": [
    "def check_out(room, date):\n",
    "    try:\n",
    "        CheckOut.insert1(dict(room=room, date=date))\n",
    "    except dj.errors.DuplicateError:\n",
    "        raise AlreadyChecked(room, date.isoformat()) from None\n",
    "    except dj.errors.IntegrityError:\n",
    "        raise NotCheckedIn(room, date.isoformat()) from None"
   ]
  },
  {
   "cell_type": "markdown",
   "id": "60740817",
   "metadata": {},
   "source": [
    "# Operations"
   ]
  },
  {
   "cell_type": "code",
   "execution_count": 18,
   "id": "8dbad565",
   "metadata": {
    "scrolled": false
   },
   "outputs": [
    {
     "name": "stderr",
     "output_type": "stream",
     "text": [
      "  8%|████████████▉                                                                                                                                                     | 8/100 [00:06<01:16,  1.21it/s]"
     ]
    },
    {
     "name": "stdout",
     "output_type": "stream",
     "text": [
      "RoomUnavailable(80, '2021-10-01')\n"
     ]
    },
    {
     "name": "stderr",
     "output_type": "stream",
     "text": [
      "\r",
      "  9%|██████████████▌                                                                                                                                                   | 9/100 [00:07<01:14,  1.22it/s]"
     ]
    },
    {
     "name": "stdout",
     "output_type": "stream",
     "text": [
      "RoomAlreadyReserved(51, '2021-11-04')\n"
     ]
    },
    {
     "name": "stderr",
     "output_type": "stream",
     "text": [
      " 11%|█████████████████▋                                                                                                                                               | 11/100 [00:09<01:27,  1.02it/s]"
     ]
    },
    {
     "name": "stdout",
     "output_type": "stream",
     "text": [
      "RoomUnavailable(80, '2021-11-09')\n"
     ]
    },
    {
     "name": "stderr",
     "output_type": "stream",
     "text": [
      "\r",
      " 12%|███████████████████▎                                                                                                                                             | 12/100 [00:10<01:20,  1.09it/s]"
     ]
    },
    {
     "name": "stdout",
     "output_type": "stream",
     "text": [
      "RoomAlreadyReserved(2, '2021-10-29')\n"
     ]
    },
    {
     "name": "stderr",
     "output_type": "stream",
     "text": [
      " 21%|█████████████████████████████████▊                                                                                                                               | 21/100 [00:18<01:07,  1.16it/s]"
     ]
    },
    {
     "name": "stdout",
     "output_type": "stream",
     "text": [
      "RoomUnavailable(80, '2021-10-24')\n",
      "RoomAlreadyReserved(11, '2021-11-12')\n"
     ]
    },
    {
     "name": "stderr",
     "output_type": "stream",
     "text": [
      "\r",
      " 22%|███████████████████████████████████▍                                                                                                                             | 22/100 [00:18<00:58,  1.34it/s]"
     ]
    },
    {
     "name": "stdout",
     "output_type": "stream",
     "text": [
      "RoomAlreadyReserved(58, '2021-10-29')\n",
      "RoomUnavailable(80, '2021-10-16')\n",
      "RoomUnavailable(80, '2021-10-22')\n",
      "RoomAlreadyReserved(32, '2021-11-11')\n"
     ]
    },
    {
     "name": "stderr",
     "output_type": "stream",
     "text": [
      "\r",
      " 23%|█████████████████████████████████████                                                                                                                            | 23/100 [00:19<01:09,  1.11it/s]"
     ]
    },
    {
     "name": "stdout",
     "output_type": "stream",
     "text": [
      "RoomAlreadyReserved(71, '2021-10-28')\n",
      "RoomAlreadyReserved(16, '2021-10-28')\n"
     ]
    },
    {
     "name": "stderr",
     "output_type": "stream",
     "text": [
      " 25%|████████████████████████████████████████▎                                                                                                                        | 25/100 [00:20<00:49,  1.52it/s]"
     ]
    },
    {
     "name": "stdout",
     "output_type": "stream",
     "text": [
      "RoomUnavailable(80, '2021-10-19')\n",
      "RoomAlreadyReserved(38, '2021-10-26')\n"
     ]
    },
    {
     "name": "stderr",
     "output_type": "stream",
     "text": [
      "\r",
      " 26%|█████████████████████████████████████████▊                                                                                                                       | 26/100 [00:21<01:01,  1.20it/s]"
     ]
    },
    {
     "name": "stdout",
     "output_type": "stream",
     "text": [
      "RoomAlreadyReserved(70, '2021-11-11')\n"
     ]
    },
    {
     "name": "stderr",
     "output_type": "stream",
     "text": [
      " 28%|█████████████████████████████████████████████                                                                                                                    | 28/100 [00:22<00:47,  1.52it/s]"
     ]
    },
    {
     "name": "stdout",
     "output_type": "stream",
     "text": [
      "RoomAlreadyReserved(75, '2021-10-14')\n"
     ]
    },
    {
     "name": "stderr",
     "output_type": "stream",
     "text": [
      " 30%|████████████████████████████████████████████████▎                                                                                                                | 30/100 [00:24<00:53,  1.32it/s]"
     ]
    },
    {
     "name": "stdout",
     "output_type": "stream",
     "text": [
      "RoomAlreadyReserved(58, '2021-10-29')\n",
      "RoomAlreadyReserved(64, '2021-10-24')\n",
      "RoomUnavailable(80, '2021-10-09')\n"
     ]
    },
    {
     "name": "stderr",
     "output_type": "stream",
     "text": [
      "\r",
      " 31%|█████████████████████████████████████████████████▉                                                                                                               | 31/100 [00:26<01:02,  1.11it/s]"
     ]
    },
    {
     "name": "stdout",
     "output_type": "stream",
     "text": [
      "RoomAlreadyReserved(44, '2021-10-29')\n",
      "RoomAlreadyReserved(39, '2021-10-28')\n"
     ]
    },
    {
     "name": "stderr",
     "output_type": "stream",
     "text": [
      "\r",
      " 32%|███████████████████████████████████████████████████▌                                                                                                             | 32/100 [00:27<01:14,  1.10s/it]"
     ]
    },
    {
     "name": "stdout",
     "output_type": "stream",
     "text": [
      "RoomAlreadyReserved(9, '2021-10-31')\n"
     ]
    },
    {
     "name": "stderr",
     "output_type": "stream",
     "text": [
      "\r",
      " 33%|█████████████████████████████████████████████████████▏                                                                                                           | 33/100 [00:28<01:12,  1.08s/it]"
     ]
    },
    {
     "name": "stdout",
     "output_type": "stream",
     "text": [
      "RoomUnavailable(80, '2021-10-03')\n"
     ]
    },
    {
     "name": "stderr",
     "output_type": "stream",
     "text": [
      "\r",
      " 34%|██████████████████████████████████████████████████████▋                                                                                                          | 34/100 [00:29<01:04,  1.03it/s]"
     ]
    },
    {
     "name": "stdout",
     "output_type": "stream",
     "text": [
      "RoomUnavailable(80, '2021-10-18')\n",
      "RoomAlreadyReserved(44, '2021-11-10')\n"
     ]
    },
    {
     "name": "stderr",
     "output_type": "stream",
     "text": [
      "\r",
      " 35%|████████████████████████████████████████████████████████▎                                                                                                        | 35/100 [00:29<00:55,  1.17it/s]"
     ]
    },
    {
     "name": "stdout",
     "output_type": "stream",
     "text": [
      "RoomAlreadyReserved(36, '2021-11-13')\n"
     ]
    },
    {
     "name": "stderr",
     "output_type": "stream",
     "text": [
      "\r",
      " 36%|█████████████████████████████████████████████████████████▉                                                                                                       | 36/100 [00:30<00:47,  1.34it/s]"
     ]
    },
    {
     "name": "stdout",
     "output_type": "stream",
     "text": [
      "RoomAlreadyReserved(52, '2021-10-21')\n"
     ]
    },
    {
     "name": "stderr",
     "output_type": "stream",
     "text": [
      "\r",
      " 37%|███████████████████████████████████████████████████████████▌                                                                                                     | 37/100 [00:31<00:54,  1.15it/s]"
     ]
    },
    {
     "name": "stdout",
     "output_type": "stream",
     "text": [
      "RoomAlreadyReserved(65, '2021-10-03')\n"
     ]
    },
    {
     "name": "stderr",
     "output_type": "stream",
     "text": [
      "\r",
      " 38%|█████████████████████████████████████████████████████████████▏                                                                                                   | 38/100 [00:32<00:58,  1.05it/s]"
     ]
    },
    {
     "name": "stdout",
     "output_type": "stream",
     "text": [
      "RoomAlreadyReserved(30, '2021-10-06')\n"
     ]
    },
    {
     "name": "stderr",
     "output_type": "stream",
     "text": [
      " 40%|████████████████████████████████████████████████████████████████▍                                                                                                | 40/100 [00:34<00:57,  1.04it/s]"
     ]
    },
    {
     "name": "stdout",
     "output_type": "stream",
     "text": [
      "RoomAlreadyReserved(55, '2021-10-08')\n",
      "RoomAlreadyReserved(56, '2021-10-09')\n",
      "RoomAlreadyReserved(32, '2021-10-28')\n"
     ]
    },
    {
     "name": "stderr",
     "output_type": "stream",
     "text": [
      "\r",
      " 41%|██████████████████████████████████████████████████████████████████                                                                                               | 41/100 [00:36<01:04,  1.09s/it]"
     ]
    },
    {
     "name": "stdout",
     "output_type": "stream",
     "text": [
      "RoomAlreadyReserved(56, '2021-10-28')\n",
      "RoomAlreadyReserved(46, '2021-11-07')\n",
      "RoomAlreadyReserved(14, '2021-10-19')\n",
      "RoomAlreadyReserved(34, '2021-10-06')\n"
     ]
    },
    {
     "name": "stderr",
     "output_type": "stream",
     "text": [
      "\r",
      " 42%|███████████████████████████████████████████████████████████████████▌                                                                                             | 42/100 [00:37<01:07,  1.16s/it]"
     ]
    },
    {
     "name": "stdout",
     "output_type": "stream",
     "text": [
      "RoomAlreadyReserved(59, '2021-11-13')\n"
     ]
    },
    {
     "name": "stderr",
     "output_type": "stream",
     "text": [
      "\r",
      " 43%|█████████████████████████████████████████████████████████████████████▏                                                                                           | 43/100 [00:38<01:05,  1.15s/it]"
     ]
    },
    {
     "name": "stdout",
     "output_type": "stream",
     "text": [
      "RoomAlreadyReserved(45, '2021-10-27')\n",
      "RoomAlreadyReserved(59, '2021-10-22')\n"
     ]
    },
    {
     "name": "stderr",
     "output_type": "stream",
     "text": [
      "\r",
      " 44%|██████████████████████████████████████████████████████████████████████▊                                                                                          | 44/100 [00:40<01:11,  1.28s/it]"
     ]
    },
    {
     "name": "stdout",
     "output_type": "stream",
     "text": [
      "RoomAlreadyReserved(28, '2021-10-09')\n",
      "RoomAlreadyReserved(42, '2021-10-27')\n",
      "RoomAlreadyReserved(54, '2021-11-02')\n"
     ]
    },
    {
     "name": "stderr",
     "output_type": "stream",
     "text": [
      "\r",
      " 45%|████████████████████████████████████████████████████████████████████████▍                                                                                        | 45/100 [00:40<00:59,  1.09s/it]"
     ]
    },
    {
     "name": "stdout",
     "output_type": "stream",
     "text": [
      "RoomAlreadyReserved(37, '2021-11-12')\n"
     ]
    },
    {
     "name": "stderr",
     "output_type": "stream",
     "text": [
      "\r",
      " 46%|██████████████████████████████████████████████████████████████████████████                                                                                       | 46/100 [00:41<00:54,  1.00s/it]"
     ]
    },
    {
     "name": "stdout",
     "output_type": "stream",
     "text": [
      "RoomAlreadyReserved(75, '2021-10-06')\n",
      "RoomAlreadyReserved(25, '2021-11-02')\n"
     ]
    },
    {
     "name": "stderr",
     "output_type": "stream",
     "text": [
      "\r",
      " 47%|███████████████████████████████████████████████████████████████████████████▋                                                                                     | 47/100 [00:42<00:52,  1.01it/s]"
     ]
    },
    {
     "name": "stdout",
     "output_type": "stream",
     "text": [
      "RoomAlreadyReserved(8, '2021-10-12')\n"
     ]
    },
    {
     "name": "stderr",
     "output_type": "stream",
     "text": [
      "\r",
      " 48%|█████████████████████████████████████████████████████████████████████████████▎                                                                                   | 48/100 [00:43<00:44,  1.16it/s]"
     ]
    },
    {
     "name": "stdout",
     "output_type": "stream",
     "text": [
      "RoomUnavailable(80, '2021-10-13')\n",
      "RoomAlreadyReserved(73, '2021-10-04')\n",
      "RoomAlreadyReserved(6, '2021-10-20')\n"
     ]
    },
    {
     "name": "stderr",
     "output_type": "stream",
     "text": [
      " 50%|████████████████████████████████████████████████████████████████████████████████▌                                                                                | 50/100 [00:44<00:34,  1.46it/s]"
     ]
    },
    {
     "name": "stdout",
     "output_type": "stream",
     "text": [
      "RoomAlreadyReserved(2, '2021-11-03')\n",
      "RoomAlreadyReserved(3, '2021-10-23')\n",
      "RoomAlreadyReserved(34, '2021-10-28')\n"
     ]
    },
    {
     "name": "stderr",
     "output_type": "stream",
     "text": [
      "\r",
      " 51%|██████████████████████████████████████████████████████████████████████████████████                                                                               | 51/100 [00:44<00:34,  1.44it/s]"
     ]
    },
    {
     "name": "stdout",
     "output_type": "stream",
     "text": [
      "RoomAlreadyReserved(24, '2021-10-03')\n",
      "RoomAlreadyReserved(50, '2021-10-30')\n"
     ]
    },
    {
     "name": "stderr",
     "output_type": "stream",
     "text": [
      " 53%|█████████████████████████████████████████████████████████████████████████████████████▎                                                                           | 53/100 [00:46<00:36,  1.28it/s]"
     ]
    },
    {
     "name": "stdout",
     "output_type": "stream",
     "text": [
      "RoomUnavailable(80, '2021-11-12')\n",
      "RoomAlreadyReserved(68, '2021-10-12')\n",
      "RoomUnavailable(80, '2021-10-14')\n",
      "RoomUnavailable(80, '2021-10-04')\n"
     ]
    },
    {
     "name": "stderr",
     "output_type": "stream",
     "text": [
      " 57%|███████████████████████████████████████████████████████████████████████████████████████████▊                                                                     | 57/100 [00:50<00:34,  1.26it/s]"
     ]
    },
    {
     "name": "stdout",
     "output_type": "stream",
     "text": [
      "RoomAlreadyReserved(44, '2021-10-30')\n",
      "RoomUnavailable(80, '2021-10-11')\n"
     ]
    },
    {
     "name": "stderr",
     "output_type": "stream",
     "text": [
      "\r",
      " 58%|█████████████████████████████████████████████████████████████████████████████████████████████▍                                                                   | 58/100 [00:51<00:39,  1.08it/s]"
     ]
    },
    {
     "name": "stdout",
     "output_type": "stream",
     "text": [
      "RoomAlreadyReserved(43, '2021-10-06')\n",
      "RoomAlreadyReserved(32, '2021-11-11')\n"
     ]
    },
    {
     "name": "stderr",
     "output_type": "stream",
     "text": [
      " 60%|████████████████████████████████████████████████████████████████████████████████████████████████▌                                                                | 60/100 [00:54<00:39,  1.02it/s]"
     ]
    },
    {
     "name": "stdout",
     "output_type": "stream",
     "text": [
      "RoomAlreadyReserved(65, '2021-10-23')\n",
      "RoomAlreadyReserved(56, '2021-11-01')\n",
      "RoomAlreadyReserved(44, '2021-10-01')\n"
     ]
    },
    {
     "name": "stderr",
     "output_type": "stream",
     "text": [
      "\r",
      " 61%|██████████████████████████████████████████████████████████████████████████████████████████████████▏                                                              | 61/100 [00:54<00:37,  1.05it/s]"
     ]
    },
    {
     "name": "stdout",
     "output_type": "stream",
     "text": [
      "RoomAlreadyReserved(42, '2021-10-10')\n",
      "RoomAlreadyReserved(16, '2021-10-28')\n",
      "RoomUnavailable(80, '2021-11-03')\n"
     ]
    },
    {
     "name": "stderr",
     "output_type": "stream",
     "text": [
      "\r",
      " 62%|███████████████████████████████████████████████████████████████████████████████████████████████████▊                                                             | 62/100 [00:56<00:38,  1.02s/it]"
     ]
    },
    {
     "name": "stdout",
     "output_type": "stream",
     "text": [
      "RoomAlreadyReserved(37, '2021-10-07')\n"
     ]
    },
    {
     "name": "stderr",
     "output_type": "stream",
     "text": [
      "\r",
      " 63%|█████████████████████████████████████████████████████████████████████████████████████████████████████▍                                                           | 63/100 [00:57<00:40,  1.09s/it]"
     ]
    },
    {
     "name": "stdout",
     "output_type": "stream",
     "text": [
      "RoomAlreadyReserved(25, '2021-11-14')\n",
      "RoomUnavailable(80, '2021-10-18')\n",
      "RoomAlreadyReserved(50, '2021-10-30')\n",
      "RoomAlreadyReserved(36, '2021-10-09')\n",
      "RoomAlreadyReserved(69, '2021-11-04')\n"
     ]
    },
    {
     "name": "stderr",
     "output_type": "stream",
     "text": [
      " 65%|████████████████████████████████████████████████████████████████████████████████████████████████████████▋                                                        | 65/100 [00:58<00:26,  1.34it/s]"
     ]
    },
    {
     "name": "stdout",
     "output_type": "stream",
     "text": [
      "RoomAlreadyReserved(17, '2021-10-13')\n",
      "RoomAlreadyReserved(6, '2021-10-09')\n",
      "RoomAlreadyReserved(62, '2021-10-05')\n"
     ]
    },
    {
     "name": "stderr",
     "output_type": "stream",
     "text": [
      " 68%|█████████████████████████████████████████████████████████████████████████████████████████████████████████████▍                                                   | 68/100 [01:00<00:18,  1.76it/s]"
     ]
    },
    {
     "name": "stdout",
     "output_type": "stream",
     "text": [
      "RoomAlreadyReserved(26, '2021-11-12')\n",
      "RoomAlreadyReserved(28, '2021-11-05')\n",
      "RoomAlreadyReserved(23, '2021-10-26')\n",
      "RoomAlreadyReserved(63, '2021-11-08')\n"
     ]
    },
    {
     "name": "stderr",
     "output_type": "stream",
     "text": [
      "\r",
      " 69%|███████████████████████████████████████████████████████████████████████████████████████████████████████████████                                                  | 69/100 [01:01<00:24,  1.28it/s]"
     ]
    },
    {
     "name": "stdout",
     "output_type": "stream",
     "text": [
      "RoomAlreadyReserved(71, '2021-10-04')\n",
      "RoomAlreadyReserved(4, '2021-10-19')\n",
      "RoomAlreadyReserved(39, '2021-11-02')\n"
     ]
    },
    {
     "name": "stderr",
     "output_type": "stream",
     "text": [
      "\r",
      " 70%|████████████████████████████████████████████████████████████████████████████████████████████████████████████████▋                                                | 70/100 [01:02<00:28,  1.05it/s]"
     ]
    },
    {
     "name": "stdout",
     "output_type": "stream",
     "text": [
      "RoomAlreadyReserved(23, '2021-11-06')\n",
      "RoomAlreadyReserved(69, '2021-10-20')\n",
      "RoomAlreadyReserved(41, '2021-11-03')\n",
      "RoomAlreadyReserved(66, '2021-11-11')\n"
     ]
    },
    {
     "name": "stderr",
     "output_type": "stream",
     "text": [
      "\r",
      " 71%|██████████████████████████████████████████████████████████████████████████████████████████████████████████████████▎                                              | 71/100 [01:04<00:31,  1.08s/it]"
     ]
    },
    {
     "name": "stdout",
     "output_type": "stream",
     "text": [
      "RoomAlreadyReserved(42, '2021-10-27')\n",
      "RoomAlreadyReserved(44, '2021-10-28')\n"
     ]
    },
    {
     "name": "stderr",
     "output_type": "stream",
     "text": [
      "\r",
      " 72%|███████████████████████████████████████████████████████████████████████████████████████████████████████████████████▉                                             | 72/100 [01:05<00:29,  1.07s/it]"
     ]
    },
    {
     "name": "stdout",
     "output_type": "stream",
     "text": [
      "RoomAlreadyReserved(43, '2021-11-01')\n"
     ]
    },
    {
     "name": "stderr",
     "output_type": "stream",
     "text": [
      "\r",
      " 73%|█████████████████████████████████████████████████████████████████████████████████████████████████████████████████████▌                                           | 73/100 [01:06<00:28,  1.05s/it]"
     ]
    },
    {
     "name": "stdout",
     "output_type": "stream",
     "text": [
      "RoomAlreadyReserved(72, '2021-10-29')\n",
      "RoomAlreadyReserved(2, '2021-11-11')\n",
      "RoomAlreadyReserved(11, '2021-10-30')\n",
      "RoomAlreadyReserved(38, '2021-11-07')\n"
     ]
    },
    {
     "name": "stderr",
     "output_type": "stream",
     "text": [
      "\r",
      " 74%|███████████████████████████████████████████████████████████████████████████████████████████████████████████████████████▏                                         | 74/100 [01:07<00:28,  1.10s/it]"
     ]
    },
    {
     "name": "stdout",
     "output_type": "stream",
     "text": [
      "RoomUnavailable(80, '2021-11-04')\n",
      "RoomAlreadyReserved(42, '2021-10-06')\n",
      "RoomAlreadyReserved(62, '2021-11-02')\n"
     ]
    },
    {
     "name": "stderr",
     "output_type": "stream",
     "text": [
      "\r",
      " 75%|████████████████████████████████████████████████████████████████████████████████████████████████████████████████████████▊                                        | 75/100 [01:08<00:26,  1.08s/it]"
     ]
    },
    {
     "name": "stdout",
     "output_type": "stream",
     "text": [
      "RoomUnavailable(80, '2021-10-09')\n",
      "RoomAlreadyReserved(13, '2021-10-22')\n"
     ]
    },
    {
     "name": "stderr",
     "output_type": "stream",
     "text": [
      "\r",
      " 76%|██████████████████████████████████████████████████████████████████████████████████████████████████████████████████████████▎                                      | 76/100 [01:08<00:21,  1.14it/s]"
     ]
    },
    {
     "name": "stdout",
     "output_type": "stream",
     "text": [
      "RoomAlreadyReserved(58, '2021-11-04')\n"
     ]
    },
    {
     "name": "stderr",
     "output_type": "stream",
     "text": [
      "\r",
      " 77%|███████████████████████████████████████████████████████████████████████████████████████████████████████████████████████████▉                                     | 77/100 [01:09<00:16,  1.44it/s]"
     ]
    },
    {
     "name": "stdout",
     "output_type": "stream",
     "text": [
      "RoomAlreadyReserved(52, '2021-10-26')\n",
      "RoomAlreadyReserved(77, '2021-11-13')\n"
     ]
    },
    {
     "name": "stderr",
     "output_type": "stream",
     "text": [
      " 80%|████████████████████████████████████████████████████████████████████████████████████████████████████████████████████████████████▊                                | 80/100 [01:10<00:11,  1.70it/s]"
     ]
    },
    {
     "name": "stdout",
     "output_type": "stream",
     "text": [
      "RoomAlreadyReserved(53, '2021-11-07')\n",
      "RoomAlreadyReserved(44, '2021-11-04')\n",
      "RoomAlreadyReserved(56, '2021-11-09')\n",
      "RoomAlreadyReserved(43, '2021-10-01')\n"
     ]
    },
    {
     "name": "stderr",
     "output_type": "stream",
     "text": [
      "\r",
      " 81%|██████████████████████████████████████████████████████████████████████████████████████████████████████████████████████████████████▍                              | 81/100 [01:12<00:15,  1.23it/s]"
     ]
    },
    {
     "name": "stdout",
     "output_type": "stream",
     "text": [
      "RoomAlreadyReserved(32, '2021-10-16')\n",
      "RoomUnavailable(80, '2021-10-29')\n"
     ]
    },
    {
     "name": "stderr",
     "output_type": "stream",
     "text": [
      " 84%|███████████████████████████████████████████████████████████████████████████████████████████████████████████████████████████████████████▏                         | 84/100 [01:14<00:09,  1.67it/s]"
     ]
    },
    {
     "name": "stdout",
     "output_type": "stream",
     "text": [
      "RoomAlreadyReserved(15, '2021-11-06')\n",
      "RoomAlreadyReserved(44, '2021-10-06')\n"
     ]
    },
    {
     "name": "stderr",
     "output_type": "stream",
     "text": [
      "\r",
      " 85%|████████████████████████████████████████████████████████████████████████████████████████████████████████████████████████████████████████▊                        | 85/100 [01:15<00:10,  1.41it/s]"
     ]
    },
    {
     "name": "stdout",
     "output_type": "stream",
     "text": [
      "RoomAlreadyReserved(59, '2021-11-05')\n",
      "RoomAlreadyReserved(24, '2021-10-04')\n",
      "RoomAlreadyReserved(37, '2021-10-23')\n",
      "RoomAlreadyReserved(46, '2021-10-25')\n"
     ]
    },
    {
     "name": "stderr",
     "output_type": "stream",
     "text": [
      "\r",
      " 86%|██████████████████████████████████████████████████████████████████████████████████████████████████████████████████████████████████████████▍                      | 86/100 [01:16<00:12,  1.09it/s]"
     ]
    },
    {
     "name": "stdout",
     "output_type": "stream",
     "text": [
      "RoomAlreadyReserved(78, '2021-10-26')\n",
      "RoomAlreadyReserved(59, '2021-11-07')\n"
     ]
    },
    {
     "name": "stderr",
     "output_type": "stream",
     "text": [
      "\r",
      " 87%|████████████████████████████████████████████████████████████████████████████████████████████████████████████████████████████████████████████                     | 87/100 [01:16<00:10,  1.27it/s]"
     ]
    },
    {
     "name": "stdout",
     "output_type": "stream",
     "text": [
      "RoomAlreadyReserved(78, '2021-10-26')\n"
     ]
    },
    {
     "name": "stderr",
     "output_type": "stream",
     "text": [
      "\r",
      " 88%|█████████████████████████████████████████████████████████████████████████████████████████████████████████████████████████████████████████████▋                   | 88/100 [01:17<00:09,  1.23it/s]"
     ]
    },
    {
     "name": "stdout",
     "output_type": "stream",
     "text": [
      "RoomAlreadyReserved(10, '2021-11-09')\n",
      "RoomAlreadyReserved(56, '2021-11-06')\n"
     ]
    },
    {
     "name": "stderr",
     "output_type": "stream",
     "text": [
      "\r",
      " 89%|███████████████████████████████████████████████████████████████████████████████████████████████████████████████████████████████████████████████▎                 | 89/100 [01:18<00:08,  1.31it/s]"
     ]
    },
    {
     "name": "stdout",
     "output_type": "stream",
     "text": [
      "RoomAlreadyReserved(71, '2021-10-04')\n",
      "RoomUnavailable(80, '2021-10-29')\n",
      "RoomAlreadyReserved(74, '2021-10-11')\n",
      "RoomAlreadyReserved(22, '2021-10-03')\n",
      "RoomAlreadyReserved(64, '2021-10-02')\n"
     ]
    },
    {
     "name": "stderr",
     "output_type": "stream",
     "text": [
      "\r",
      " 90%|████████████████████████████████████████████████████████████████████████████████████████████████████████████████████████████████████████████████▉                | 90/100 [01:19<00:09,  1.03it/s]"
     ]
    },
    {
     "name": "stdout",
     "output_type": "stream",
     "text": [
      "RoomAlreadyReserved(60, '2021-11-14')\n",
      "RoomAlreadyReserved(27, '2021-11-04')\n",
      "RoomAlreadyReserved(8, '2021-10-05')\n",
      "RoomAlreadyReserved(6, '2021-11-05')\n",
      "RoomAlreadyReserved(33, '2021-10-23')\n"
     ]
    },
    {
     "name": "stderr",
     "output_type": "stream",
     "text": [
      "\r",
      " 91%|██████████████████████████████████████████████████████████████████████████████████████████████████████████████████████████████████████████████████▌              | 91/100 [01:21<00:09,  1.10s/it]"
     ]
    },
    {
     "name": "stdout",
     "output_type": "stream",
     "text": [
      "RoomUnavailable(80, '2021-10-21')\n"
     ]
    },
    {
     "name": "stderr",
     "output_type": "stream",
     "text": [
      "\r",
      " 92%|████████████████████████████████████████████████████████████████████████████████████████████████████████████████████████████████████████████████████             | 92/100 [01:21<00:07,  1.06it/s]"
     ]
    },
    {
     "name": "stdout",
     "output_type": "stream",
     "text": [
      "RoomUnavailable(80, '2021-10-02')\n",
      "RoomAlreadyReserved(37, '2021-10-20')\n"
     ]
    },
    {
     "name": "stderr",
     "output_type": "stream",
     "text": [
      " 94%|███████████████████████████████████████████████████████████████████████████████████████████████████████████████████████████████████████████████████████▎         | 94/100 [01:22<00:03,  1.64it/s]"
     ]
    },
    {
     "name": "stdout",
     "output_type": "stream",
     "text": [
      "RoomAlreadyReserved(6, '2021-11-05')\n",
      "RoomAlreadyReserved(55, '2021-11-09')\n",
      "RoomAlreadyReserved(35, '2021-10-07')\n",
      "RoomAlreadyReserved(57, '2021-11-05')\n"
     ]
    },
    {
     "name": "stderr",
     "output_type": "stream",
     "text": [
      "\r",
      " 95%|████████████████████████████████████████████████████████████████████████████████████████████████████████████████████████████████████████████████████████▉        | 95/100 [01:23<00:03,  1.51it/s]"
     ]
    },
    {
     "name": "stdout",
     "output_type": "stream",
     "text": [
      "RoomAlreadyReserved(43, '2021-10-05')\n",
      "RoomAlreadyReserved(39, '2021-10-14')\n",
      "RoomAlreadyReserved(21, '2021-11-04')\n",
      "RoomAlreadyReserved(12, '2021-10-02')\n"
     ]
    },
    {
     "name": "stderr",
     "output_type": "stream",
     "text": [
      "\r",
      " 96%|██████████████████████████████████████████████████████████████████████████████████████████████████████████████████████████████████████████████████████████▌      | 96/100 [01:23<00:02,  1.59it/s]"
     ]
    },
    {
     "name": "stdout",
     "output_type": "stream",
     "text": [
      "RoomAlreadyReserved(70, '2021-11-04')\n",
      "RoomAlreadyReserved(52, '2021-10-04')\n",
      "RoomAlreadyReserved(75, '2021-10-29')\n",
      "RoomAlreadyReserved(67, '2021-10-02')\n"
     ]
    },
    {
     "name": "stderr",
     "output_type": "stream",
     "text": [
      "\r",
      " 97%|████████████████████████████████████████████████████████████████████████████████████████████████████████████████████████████████████████████████████████████▏    | 97/100 [01:24<00:02,  1.34it/s]"
     ]
    },
    {
     "name": "stdout",
     "output_type": "stream",
     "text": [
      "RoomAlreadyReserved(6, '2021-11-05')\n"
     ]
    },
    {
     "name": "stderr",
     "output_type": "stream",
     "text": [
      "\r",
      " 98%|█████████████████████████████████████████████████████████████████████████████████████████████████████████████████████████████████████████████████████████████▊   | 98/100 [01:25<00:01,  1.59it/s]"
     ]
    },
    {
     "name": "stdout",
     "output_type": "stream",
     "text": [
      "RoomAlreadyReserved(48, '2021-10-19')\n"
     ]
    },
    {
     "name": "stderr",
     "output_type": "stream",
     "text": [
      "\r",
      " 99%|███████████████████████████████████████████████████████████████████████████████████████████████████████████████████████████████████████████████████████████████▍ | 99/100 [01:26<00:00,  1.46it/s]"
     ]
    },
    {
     "name": "stdout",
     "output_type": "stream",
     "text": [
      "RoomAlreadyReserved(52, '2021-11-14')\n",
      "RoomAlreadyReserved(9, '2021-11-08')\n"
     ]
    },
    {
     "name": "stderr",
     "output_type": "stream",
     "text": [
      "100%|████████████████████████████████████████████████████████████████████████████████████████████████████████████████████████████████████████████████████████████████| 100/100 [01:26<00:00,  1.16it/s]\n"
     ]
    },
    {
     "data": {
      "text/html": [
       "\n",
       "    \n",
       "    <style type=\"text/css\">\n",
       "        .Relation{\n",
       "            border-collapse:collapse;\n",
       "        }\n",
       "        .Relation th{\n",
       "            background: #A0A0A0; color: #ffffff; padding:4px; border:#f0e0e0 1px solid;\n",
       "            font-weight: normal; font-family: monospace; font-size: 100%;\n",
       "        }\n",
       "        .Relation td{\n",
       "            padding:4px; border:#f0e0e0 1px solid; font-size:100%;\n",
       "        }\n",
       "        .Relation tr:nth-child(odd){\n",
       "            background: #ffffff;\n",
       "        }\n",
       "        .Relation tr:nth-child(even){\n",
       "            background: #f3f1ff;\n",
       "        }\n",
       "        /* Tooltip container */\n",
       "        .djtooltip {\n",
       "        }\n",
       "        /* Tooltip text */\n",
       "        .djtooltip .djtooltiptext {\n",
       "            visibility: hidden;\n",
       "            width: 120px;\n",
       "            background-color: black;\n",
       "            color: #fff;\n",
       "            text-align: center;\n",
       "            padding: 5px 0;\n",
       "            border-radius: 6px;\n",
       "            /* Position the tooltip text - see examples below! */\n",
       "            position: absolute;\n",
       "            z-index: 1;\n",
       "        }\n",
       "        #primary {\n",
       "            font-weight: bold;\n",
       "            color: black;\n",
       "        }\n",
       "        #nonprimary {\n",
       "            font-weight: normal;\n",
       "            color: white;\n",
       "        }\n",
       "\n",
       "        /* Show the tooltip text when you mouse over the tooltip container */\n",
       "        .djtooltip:hover .djtooltiptext {\n",
       "            visibility: visible;\n",
       "        }\n",
       "    </style>\n",
       "    \n",
       "    <b></b>\n",
       "        <div style=\"max-height:1000px;max-width:1500px;overflow:auto;\">\n",
       "        <table border=\"1\" class=\"Relation\">\n",
       "            <thead> <tr style=\"text-align: right;\"> <th> <div class=\"djtooltip\">\n",
       "                            <p id=\"primary\">room</p>\n",
       "                            <span class=\"djtooltiptext\"></span>\n",
       "                        </div></th><th><div class=\"djtooltip\">\n",
       "                            <p id=\"primary\">date</p>\n",
       "                            <span class=\"djtooltiptext\"></span>\n",
       "                        </div></th><th><div class=\"djtooltip\">\n",
       "                            <p id=\"nonprimary\">guest_id</p>\n",
       "                            <span class=\"djtooltiptext\"></span>\n",
       "                        </div></th><th><div class=\"djtooltip\">\n",
       "                            <p id=\"nonprimary\">credit_card</p>\n",
       "                            <span class=\"djtooltiptext\"></span>\n",
       "                        </div> </th> </tr> </thead>\n",
       "            <tbody> <tr> <td>0</td>\n",
       "<td>2021-10-14</td>\n",
       "<td>2467043059</td>\n",
       "<td>2453673541841351 11/23 462</td></tr><tr><td>0</td>\n",
       "<td>2021-10-18</td>\n",
       "<td>845826740</td>\n",
       "<td>4528881031739606163 04/28 5583</td></tr><tr><td>0</td>\n",
       "<td>2021-10-24</td>\n",
       "<td>869198512</td>\n",
       "<td>4772595821214195133 12/26 759</td></tr><tr><td>0</td>\n",
       "<td>2021-11-02</td>\n",
       "<td>16581998</td>\n",
       "<td>30391204843665 11/28 632</td></tr><tr><td>0</td>\n",
       "<td>2021-11-05</td>\n",
       "<td>120232026</td>\n",
       "<td>4348858747347957 09/29 279</td></tr><tr><td>0</td>\n",
       "<td>2021-11-08</td>\n",
       "<td>522963624</td>\n",
       "<td>4045810724428447888 11/23 135</td></tr><tr><td>1</td>\n",
       "<td>2021-10-02</td>\n",
       "<td>576988272</td>\n",
       "<td>6515232227314782 05/25 632</td></tr><tr><td>1</td>\n",
       "<td>2021-10-03</td>\n",
       "<td>522963624</td>\n",
       "<td>4045810724428447888 11/23 135</td></tr><tr><td>1</td>\n",
       "<td>2021-10-05</td>\n",
       "<td>1231311424</td>\n",
       "<td>30570944113766 04/31 962</td></tr><tr><td>1</td>\n",
       "<td>2021-10-14</td>\n",
       "<td>3760759381</td>\n",
       "<td>3558142798582912 04/27 188</td></tr><tr><td>1</td>\n",
       "<td>2021-10-21</td>\n",
       "<td>26727245</td>\n",
       "<td>6011313298800641 07/23 421</td></tr><tr><td>1</td>\n",
       "<td>2021-10-27</td>\n",
       "<td>120232026</td>\n",
       "<td>4348858747347957 09/29 279</td> </tr> </tbody>\n",
       "        </table>\n",
       "        <p>...</p>\n",
       "        <p>Total: 928</p></div>\n",
       "        "
      ],
      "text/plain": [
       "*room    *date          guest_id       credit_card   \n",
       "+------+ +------------+ +------------+ +------------+\n",
       "0        2021-10-14     2467043059     24536735418413\n",
       "0        2021-10-18     845826740      45288810317396\n",
       "0        2021-10-24     869198512      47725958212141\n",
       "0        2021-11-02     16581998       30391204843665\n",
       "0        2021-11-05     120232026      43488587473479\n",
       "0        2021-11-08     522963624      40458107244284\n",
       "1        2021-10-02     576988272      65152322273147\n",
       "1        2021-10-03     522963624      40458107244284\n",
       "1        2021-10-05     1231311424     30570944113766\n",
       "1        2021-10-14     3760759381     35581427985829\n",
       "1        2021-10-21     26727245       60113132988006\n",
       "1        2021-10-27     120232026      43488587473479\n",
       "   ...\n",
       " (Total: 928)"
      ]
     },
     "execution_count": 18,
     "metadata": {},
     "output_type": "execute_result"
    }
   ],
   "source": [
    "# make a bunch of random reservations\n",
    "\n",
    "number_of_guests = 100\n",
    "max_nights = 20\n",
    "\n",
    "for i in tqdm.tqdm(range(number_of_guests)):\n",
    "    guest = fake.name()\n",
    "    credit_card=' '.join((fake.credit_card_number(), \n",
    "                          fake.credit_card_expire(), \n",
    "                          fake.credit_card_security_code()))\n",
    "    \n",
    "    for j in range(random.randint(1, max_nights)):\n",
    "        date =  fake.date_between_dates(start_date, start_date+datetime.timedelta(days=45))\n",
    "        room = random.randint(0, 80)\n",
    "        try:\n",
    "            reserve_room(room, date, guest, credit_card)\n",
    "        except HotelException as e:\n",
    "            print(repr(e))\n",
    "            \n",
    "# show successful reservations\n",
    "Reservation()"
   ]
  },
  {
   "cell_type": "code",
   "execution_count": 19,
   "id": "dbc10353",
   "metadata": {},
   "outputs": [
    {
     "data": {
      "text/html": [
       "\n",
       "    \n",
       "    <style type=\"text/css\">\n",
       "        .Relation{\n",
       "            border-collapse:collapse;\n",
       "        }\n",
       "        .Relation th{\n",
       "            background: #A0A0A0; color: #ffffff; padding:4px; border:#f0e0e0 1px solid;\n",
       "            font-weight: normal; font-family: monospace; font-size: 100%;\n",
       "        }\n",
       "        .Relation td{\n",
       "            padding:4px; border:#f0e0e0 1px solid; font-size:100%;\n",
       "        }\n",
       "        .Relation tr:nth-child(odd){\n",
       "            background: #ffffff;\n",
       "        }\n",
       "        .Relation tr:nth-child(even){\n",
       "            background: #f3f1ff;\n",
       "        }\n",
       "        /* Tooltip container */\n",
       "        .djtooltip {\n",
       "        }\n",
       "        /* Tooltip text */\n",
       "        .djtooltip .djtooltiptext {\n",
       "            visibility: hidden;\n",
       "            width: 120px;\n",
       "            background-color: black;\n",
       "            color: #fff;\n",
       "            text-align: center;\n",
       "            padding: 5px 0;\n",
       "            border-radius: 6px;\n",
       "            /* Position the tooltip text - see examples below! */\n",
       "            position: absolute;\n",
       "            z-index: 1;\n",
       "        }\n",
       "        #primary {\n",
       "            font-weight: bold;\n",
       "            color: black;\n",
       "        }\n",
       "        #nonprimary {\n",
       "            font-weight: normal;\n",
       "            color: white;\n",
       "        }\n",
       "\n",
       "        /* Show the tooltip text when you mouse over the tooltip container */\n",
       "        .djtooltip:hover .djtooltiptext {\n",
       "            visibility: visible;\n",
       "        }\n",
       "    </style>\n",
       "    \n",
       "    <b></b>\n",
       "        <div style=\"max-height:1000px;max-width:1500px;overflow:auto;\">\n",
       "        <table border=\"1\" class=\"Relation\">\n",
       "            <thead> <tr style=\"text-align: right;\"> <th> <div class=\"djtooltip\">\n",
       "                            <p id=\"primary\">guest_id</p>\n",
       "                            <span class=\"djtooltiptext\"></span>\n",
       "                        </div></th><th><div class=\"djtooltip\">\n",
       "                            <p id=\"nonprimary\">guest_name</p>\n",
       "                            <span class=\"djtooltiptext\"></span>\n",
       "                        </div> </th> </tr> </thead>\n",
       "            <tbody> <tr> <td>1662864156</td>\n",
       "<td>Adam Schwartz</td></tr><tr><td>869198512</td>\n",
       "<td>Alexandra Sampson</td></tr><tr><td>3953620611</td>\n",
       "<td>Alexis Arias</td></tr><tr><td>1751304781</td>\n",
       "<td>Amy Murphy</td></tr><tr><td>576988272</td>\n",
       "<td>Amy Ray</td></tr><tr><td>500507429</td>\n",
       "<td>Andrew Barnes</td></tr><tr><td>2712870417</td>\n",
       "<td>Arthur Shepherd</td></tr><tr><td>120232026</td>\n",
       "<td>Ashley Williams</td></tr><tr><td>114175943</td>\n",
       "<td>Barbara Grant</td></tr><tr><td>2549454580</td>\n",
       "<td>Becky Harrington</td></tr><tr><td>1642873097</td>\n",
       "<td>Brandon Cook</td></tr><tr><td>26727245</td>\n",
       "<td>Brandon Villarreal</td> </tr> </tbody>\n",
       "        </table>\n",
       "        <p>...</p>\n",
       "        <p>Total: 101</p></div>\n",
       "        "
      ],
      "text/plain": [
       "*guest_id      guest_name    \n",
       "+------------+ +------------+\n",
       "1662864156     Adam Schwartz \n",
       "869198512      Alexandra Samp\n",
       "3953620611     Alexis Arias  \n",
       "1751304781     Amy Murphy    \n",
       "576988272      Amy Ray       \n",
       "500507429      Andrew Barnes \n",
       "2712870417     Arthur Shepher\n",
       "120232026      Ashley William\n",
       "114175943      Barbara Grant \n",
       "2549454580     Becky Harringt\n",
       "1642873097     Brandon Cook  \n",
       "26727245       Brandon Villar\n",
       "   ...\n",
       " (Total: 101)"
      ]
     },
     "execution_count": 19,
     "metadata": {},
     "output_type": "execute_result"
    }
   ],
   "source": [
    "Guest()"
   ]
  },
  {
   "cell_type": "code",
   "execution_count": 20,
   "id": "81a75c55",
   "metadata": {},
   "outputs": [
    {
     "ename": "NoReservation",
     "evalue": "(2, '2021-10-02')",
     "output_type": "error",
     "traceback": [
      "\u001b[0;31m---------------------------------------------------------------------------\u001b[0m",
      "\u001b[0;31mNoReservation\u001b[0m                             Traceback (most recent call last)",
      "Input \u001b[0;32mIn [20]\u001b[0m, in \u001b[0;36m<cell line: 3>\u001b[0;34m()\u001b[0m\n\u001b[1;32m      1\u001b[0m \u001b[38;5;66;03m# Try check in\u001b[39;00m\n\u001b[0;32m----> 3\u001b[0m \u001b[43mcheck_in\u001b[49m\u001b[43m(\u001b[49m\u001b[38;5;241;43m2\u001b[39;49m\u001b[43m,\u001b[49m\u001b[43m \u001b[49m\u001b[43mdatetime\u001b[49m\u001b[38;5;241;43m.\u001b[39;49m\u001b[43mdate\u001b[49m\u001b[43m(\u001b[49m\u001b[38;5;241;43m2021\u001b[39;49m\u001b[43m,\u001b[49m\u001b[43m \u001b[49m\u001b[38;5;241;43m10\u001b[39;49m\u001b[43m,\u001b[49m\u001b[43m \u001b[49m\u001b[38;5;241;43m2\u001b[39;49m\u001b[43m)\u001b[49m\u001b[43m)\u001b[49m\n",
      "Input \u001b[0;32mIn [16]\u001b[0m, in \u001b[0;36mcheck_in\u001b[0;34m(room, date)\u001b[0m\n\u001b[1;32m      5\u001b[0m     \u001b[38;5;28;01mraise\u001b[39;00m AlreadyChecked(room, date\u001b[38;5;241m.\u001b[39misoformat()) \u001b[38;5;28;01mfrom\u001b[39;00m \u001b[38;5;28mNone\u001b[39m\n\u001b[1;32m      6\u001b[0m \u001b[38;5;28;01mexcept\u001b[39;00m dj\u001b[38;5;241m.\u001b[39merrors\u001b[38;5;241m.\u001b[39mIntegrityError:\n\u001b[0;32m----> 7\u001b[0m     \u001b[38;5;28;01mraise\u001b[39;00m NoReservation(room, date\u001b[38;5;241m.\u001b[39misoformat()) \u001b[38;5;28;01mfrom\u001b[39;00m \u001b[38;5;28mNone\u001b[39m\n",
      "\u001b[0;31mNoReservation\u001b[0m: (2, '2021-10-02')"
     ]
    }
   ],
   "source": [
    "# Try check in\n",
    "\n",
    "check_in(2, datetime.date(2021, 10, 2))"
   ]
  },
  {
   "cell_type": "code",
   "execution_count": 21,
   "id": "8efc7fac",
   "metadata": {},
   "outputs": [
    {
     "name": "stderr",
     "output_type": "stream",
     "text": [
      "100%|████████████████████████████████████████████████████████████████████████████████████████████████████████████████████████████████████████████████████████████████| 835/835 [00:34<00:00, 24.37it/s]\n"
     ]
    }
   ],
   "source": [
    "# checkin a bunch of people\n",
    "checkins = random.sample(Reservation().fetch('KEY'), k=int(0.9*len(Reservation())))\n",
    "for r in tqdm.tqdm(checkins):\n",
    "    check_in(**r)"
   ]
  },
  {
   "cell_type": "code",
   "execution_count": null,
   "id": "ec862447",
   "metadata": {},
   "outputs": [],
   "source": [
    "CheckIn()"
   ]
  },
  {
   "cell_type": "code",
   "execution_count": 22,
   "id": "2faabb54",
   "metadata": {},
   "outputs": [
    {
     "ename": "AlreadyChecked",
     "evalue": "(26, '2021-10-31')",
     "output_type": "error",
     "traceback": [
      "\u001b[0;31m---------------------------------------------------------------------------\u001b[0m",
      "\u001b[0;31mAlreadyChecked\u001b[0m                            Traceback (most recent call last)",
      "Input \u001b[0;32mIn [22]\u001b[0m, in \u001b[0;36m<cell line: 2>\u001b[0;34m()\u001b[0m\n\u001b[1;32m      1\u001b[0m \u001b[38;5;66;03m# Try duplicate checkin\u001b[39;00m\n\u001b[0;32m----> 2\u001b[0m \u001b[43mcheck_in\u001b[49m\u001b[43m(\u001b[49m\u001b[38;5;241;43m*\u001b[39;49m\u001b[38;5;241;43m*\u001b[39;49m\u001b[43mcheckins\u001b[49m\u001b[43m[\u001b[49m\u001b[38;5;241;43m0\u001b[39;49m\u001b[43m]\u001b[49m\u001b[43m)\u001b[49m\n",
      "Input \u001b[0;32mIn [16]\u001b[0m, in \u001b[0;36mcheck_in\u001b[0;34m(room, date)\u001b[0m\n\u001b[1;32m      3\u001b[0m     CheckIn\u001b[38;5;241m.\u001b[39minsert1(\u001b[38;5;28mdict\u001b[39m(room\u001b[38;5;241m=\u001b[39mroom, date\u001b[38;5;241m=\u001b[39mdate))\n\u001b[1;32m      4\u001b[0m \u001b[38;5;28;01mexcept\u001b[39;00m dj\u001b[38;5;241m.\u001b[39merrors\u001b[38;5;241m.\u001b[39mDuplicateError:\n\u001b[0;32m----> 5\u001b[0m     \u001b[38;5;28;01mraise\u001b[39;00m AlreadyChecked(room, date\u001b[38;5;241m.\u001b[39misoformat()) \u001b[38;5;28;01mfrom\u001b[39;00m \u001b[38;5;28mNone\u001b[39m\n\u001b[1;32m      6\u001b[0m \u001b[38;5;28;01mexcept\u001b[39;00m dj\u001b[38;5;241m.\u001b[39merrors\u001b[38;5;241m.\u001b[39mIntegrityError:\n\u001b[1;32m      7\u001b[0m     \u001b[38;5;28;01mraise\u001b[39;00m NoReservation(room, date\u001b[38;5;241m.\u001b[39misoformat()) \u001b[38;5;28;01mfrom\u001b[39;00m \u001b[38;5;28mNone\u001b[39m\n",
      "\u001b[0;31mAlreadyChecked\u001b[0m: (26, '2021-10-31')"
     ]
    }
   ],
   "source": [
    "# Try duplicate checkin\n",
    "check_in(**checkins[0])"
   ]
  },
  {
   "cell_type": "code",
   "execution_count": 23,
   "id": "5236b125",
   "metadata": {},
   "outputs": [
    {
     "ename": "NotCheckedIn",
     "evalue": "(2, '2021-10-02')",
     "output_type": "error",
     "traceback": [
      "\u001b[0;31m---------------------------------------------------------------------------\u001b[0m",
      "\u001b[0;31mNotCheckedIn\u001b[0m                              Traceback (most recent call last)",
      "Input \u001b[0;32mIn [23]\u001b[0m, in \u001b[0;36m<cell line: 3>\u001b[0;34m()\u001b[0m\n\u001b[1;32m      1\u001b[0m \u001b[38;5;66;03m# Try checkout\u001b[39;00m\n\u001b[0;32m----> 3\u001b[0m \u001b[43mcheck_out\u001b[49m\u001b[43m(\u001b[49m\u001b[38;5;241;43m2\u001b[39;49m\u001b[43m,\u001b[49m\u001b[43m \u001b[49m\u001b[43mdatetime\u001b[49m\u001b[38;5;241;43m.\u001b[39;49m\u001b[43mdate\u001b[49m\u001b[43m(\u001b[49m\u001b[38;5;241;43m2021\u001b[39;49m\u001b[43m,\u001b[49m\u001b[43m \u001b[49m\u001b[38;5;241;43m10\u001b[39;49m\u001b[43m,\u001b[49m\u001b[43m \u001b[49m\u001b[38;5;241;43m2\u001b[39;49m\u001b[43m)\u001b[49m\u001b[43m)\u001b[49m\n",
      "Input \u001b[0;32mIn [17]\u001b[0m, in \u001b[0;36mcheck_out\u001b[0;34m(room, date)\u001b[0m\n\u001b[1;32m      5\u001b[0m     \u001b[38;5;28;01mraise\u001b[39;00m AlreadyChecked(room, date\u001b[38;5;241m.\u001b[39misoformat()) \u001b[38;5;28;01mfrom\u001b[39;00m \u001b[38;5;28mNone\u001b[39m\n\u001b[1;32m      6\u001b[0m \u001b[38;5;28;01mexcept\u001b[39;00m dj\u001b[38;5;241m.\u001b[39merrors\u001b[38;5;241m.\u001b[39mIntegrityError:\n\u001b[0;32m----> 7\u001b[0m     \u001b[38;5;28;01mraise\u001b[39;00m NotCheckedIn(room, date\u001b[38;5;241m.\u001b[39misoformat()) \u001b[38;5;28;01mfrom\u001b[39;00m \u001b[38;5;28mNone\u001b[39m\n",
      "\u001b[0;31mNotCheckedIn\u001b[0m: (2, '2021-10-02')"
     ]
    }
   ],
   "source": [
    "# Try checkout\n",
    "\n",
    "check_out(2, datetime.date(2021, 10, 2))"
   ]
  },
  {
   "cell_type": "code",
   "execution_count": 24,
   "id": "85a3a740",
   "metadata": {},
   "outputs": [
    {
     "name": "stderr",
     "output_type": "stream",
     "text": [
      "100%|████████████████████████████████████████████████████████████████████████████████████████████████████████████████████████████████████████████████████████████████| 751/751 [00:30<00:00, 24.70it/s]\n"
     ]
    }
   ],
   "source": [
    "# checkout a bunch of people\n",
    "checkouts = random.sample(CheckIn().fetch('KEY'), k=int(0.9*len(CheckIn())))\n",
    "for r in tqdm.tqdm(checkouts):\n",
    "    check_out(**r)"
   ]
  },
  {
   "cell_type": "code",
   "execution_count": 25,
   "id": "5151ae4b",
   "metadata": {},
   "outputs": [
    {
     "ename": "AlreadyChecked",
     "evalue": "(29, '2021-10-03')",
     "output_type": "error",
     "traceback": [
      "\u001b[0;31m---------------------------------------------------------------------------\u001b[0m",
      "\u001b[0;31mAlreadyChecked\u001b[0m                            Traceback (most recent call last)",
      "Input \u001b[0;32mIn [25]\u001b[0m, in \u001b[0;36m<cell line: 3>\u001b[0;34m()\u001b[0m\n\u001b[1;32m      1\u001b[0m \u001b[38;5;66;03m# try duplicate checkout\u001b[39;00m\n\u001b[0;32m----> 3\u001b[0m \u001b[43mcheck_out\u001b[49m\u001b[43m(\u001b[49m\u001b[38;5;241;43m*\u001b[39;49m\u001b[38;5;241;43m*\u001b[39;49m\u001b[43mcheckouts\u001b[49m\u001b[43m[\u001b[49m\u001b[38;5;241;43m0\u001b[39;49m\u001b[43m]\u001b[49m\u001b[43m)\u001b[49m\n",
      "Input \u001b[0;32mIn [17]\u001b[0m, in \u001b[0;36mcheck_out\u001b[0;34m(room, date)\u001b[0m\n\u001b[1;32m      3\u001b[0m     CheckOut\u001b[38;5;241m.\u001b[39minsert1(\u001b[38;5;28mdict\u001b[39m(room\u001b[38;5;241m=\u001b[39mroom, date\u001b[38;5;241m=\u001b[39mdate))\n\u001b[1;32m      4\u001b[0m \u001b[38;5;28;01mexcept\u001b[39;00m dj\u001b[38;5;241m.\u001b[39merrors\u001b[38;5;241m.\u001b[39mDuplicateError:\n\u001b[0;32m----> 5\u001b[0m     \u001b[38;5;28;01mraise\u001b[39;00m AlreadyChecked(room, date\u001b[38;5;241m.\u001b[39misoformat()) \u001b[38;5;28;01mfrom\u001b[39;00m \u001b[38;5;28mNone\u001b[39m\n\u001b[1;32m      6\u001b[0m \u001b[38;5;28;01mexcept\u001b[39;00m dj\u001b[38;5;241m.\u001b[39merrors\u001b[38;5;241m.\u001b[39mIntegrityError:\n\u001b[1;32m      7\u001b[0m     \u001b[38;5;28;01mraise\u001b[39;00m NotCheckedIn(room, date\u001b[38;5;241m.\u001b[39misoformat()) \u001b[38;5;28;01mfrom\u001b[39;00m \u001b[38;5;28mNone\u001b[39m\n",
      "\u001b[0;31mAlreadyChecked\u001b[0m: (29, '2021-10-03')"
     ]
    }
   ],
   "source": [
    "# try duplicate checkout\n",
    "\n",
    "check_out(**checkouts[0])"
   ]
  },
  {
   "cell_type": "markdown",
   "id": "4ebd1fd9",
   "metadata": {},
   "source": [
    "# Queries \n",
    "\n",
    "## Query 1: List all guests who have stayed in room 1"
   ]
  },
  {
   "cell_type": "code",
   "execution_count": 26,
   "id": "fa181a79",
   "metadata": {},
   "outputs": [
    {
     "data": {
      "text/html": [
       "\n",
       "    \n",
       "    <style type=\"text/css\">\n",
       "        .Relation{\n",
       "            border-collapse:collapse;\n",
       "        }\n",
       "        .Relation th{\n",
       "            background: #A0A0A0; color: #ffffff; padding:4px; border:#f0e0e0 1px solid;\n",
       "            font-weight: normal; font-family: monospace; font-size: 100%;\n",
       "        }\n",
       "        .Relation td{\n",
       "            padding:4px; border:#f0e0e0 1px solid; font-size:100%;\n",
       "        }\n",
       "        .Relation tr:nth-child(odd){\n",
       "            background: #ffffff;\n",
       "        }\n",
       "        .Relation tr:nth-child(even){\n",
       "            background: #f3f1ff;\n",
       "        }\n",
       "        /* Tooltip container */\n",
       "        .djtooltip {\n",
       "        }\n",
       "        /* Tooltip text */\n",
       "        .djtooltip .djtooltiptext {\n",
       "            visibility: hidden;\n",
       "            width: 120px;\n",
       "            background-color: black;\n",
       "            color: #fff;\n",
       "            text-align: center;\n",
       "            padding: 5px 0;\n",
       "            border-radius: 6px;\n",
       "            /* Position the tooltip text - see examples below! */\n",
       "            position: absolute;\n",
       "            z-index: 1;\n",
       "        }\n",
       "        #primary {\n",
       "            font-weight: bold;\n",
       "            color: black;\n",
       "        }\n",
       "        #nonprimary {\n",
       "            font-weight: normal;\n",
       "            color: white;\n",
       "        }\n",
       "\n",
       "        /* Show the tooltip text when you mouse over the tooltip container */\n",
       "        .djtooltip:hover .djtooltiptext {\n",
       "            visibility: visible;\n",
       "        }\n",
       "    </style>\n",
       "    \n",
       "    <b></b>\n",
       "        <div style=\"max-height:1000px;max-width:1500px;overflow:auto;\">\n",
       "        <table border=\"1\" class=\"Relation\">\n",
       "            <thead> <tr style=\"text-align: right;\"> <th> <div class=\"djtooltip\">\n",
       "                            <p id=\"primary\">guest_id</p>\n",
       "                            <span class=\"djtooltiptext\"></span>\n",
       "                        </div></th><th><div class=\"djtooltip\">\n",
       "                            <p id=\"nonprimary\">guest_name</p>\n",
       "                            <span class=\"djtooltiptext\"></span>\n",
       "                        </div> </th> </tr> </thead>\n",
       "            <tbody> <tr> <td>576988272</td>\n",
       "<td>Amy Ray</td></tr><tr><td>522963624</td>\n",
       "<td>Christopher Smith</td></tr><tr><td>1231311424</td>\n",
       "<td>Dylan Vincent</td></tr><tr><td>3760759381</td>\n",
       "<td>Jamie Atkinson</td></tr><tr><td>26727245</td>\n",
       "<td>Brandon Villarreal</td></tr><tr><td>120232026</td>\n",
       "<td>Ashley Williams</td></tr><tr><td>2783887783</td>\n",
       "<td>Emily Caldwell</td></tr><tr><td>290179231</td>\n",
       "<td>Judy Adkins</td> </tr> </tbody>\n",
       "        </table>\n",
       "        \n",
       "        <p>Total: 8</p></div>\n",
       "        "
      ],
      "text/plain": [
       "*guest_id      guest_name    \n",
       "+------------+ +------------+\n",
       "576988272      Amy Ray       \n",
       "522963624      Christopher Sm\n",
       "1231311424     Dylan Vincent \n",
       "3760759381     Jamie Atkinson\n",
       "26727245       Brandon Villar\n",
       "120232026      Ashley William\n",
       "2783887783     Emily Caldwell\n",
       "290179231      Judy Adkins   \n",
       " (Total: 8)"
      ]
     },
     "execution_count": 26,
     "metadata": {},
     "output_type": "execute_result"
    }
   ],
   "source": [
    "Guest & (Reservation & (CheckIn & 'room=1'))"
   ]
  },
  {
   "cell_type": "code",
   "execution_count": 27,
   "id": "e9891efc",
   "metadata": {},
   "outputs": [
    {
     "data": {
      "text/html": [
       "\n",
       "    \n",
       "    <style type=\"text/css\">\n",
       "        .Relation{\n",
       "            border-collapse:collapse;\n",
       "        }\n",
       "        .Relation th{\n",
       "            background: #A0A0A0; color: #ffffff; padding:4px; border:#f0e0e0 1px solid;\n",
       "            font-weight: normal; font-family: monospace; font-size: 100%;\n",
       "        }\n",
       "        .Relation td{\n",
       "            padding:4px; border:#f0e0e0 1px solid; font-size:100%;\n",
       "        }\n",
       "        .Relation tr:nth-child(odd){\n",
       "            background: #ffffff;\n",
       "        }\n",
       "        .Relation tr:nth-child(even){\n",
       "            background: #f3f1ff;\n",
       "        }\n",
       "        /* Tooltip container */\n",
       "        .djtooltip {\n",
       "        }\n",
       "        /* Tooltip text */\n",
       "        .djtooltip .djtooltiptext {\n",
       "            visibility: hidden;\n",
       "            width: 120px;\n",
       "            background-color: black;\n",
       "            color: #fff;\n",
       "            text-align: center;\n",
       "            padding: 5px 0;\n",
       "            border-radius: 6px;\n",
       "            /* Position the tooltip text - see examples below! */\n",
       "            position: absolute;\n",
       "            z-index: 1;\n",
       "        }\n",
       "        #primary {\n",
       "            font-weight: bold;\n",
       "            color: black;\n",
       "        }\n",
       "        #nonprimary {\n",
       "            font-weight: normal;\n",
       "            color: white;\n",
       "        }\n",
       "\n",
       "        /* Show the tooltip text when you mouse over the tooltip container */\n",
       "        .djtooltip:hover .djtooltiptext {\n",
       "            visibility: visible;\n",
       "        }\n",
       "    </style>\n",
       "    \n",
       "    <b></b>\n",
       "        <div style=\"max-height:1000px;max-width:1500px;overflow:auto;\">\n",
       "        <table border=\"1\" class=\"Relation\">\n",
       "            <thead> <tr style=\"text-align: right;\"> <th> <div class=\"djtooltip\">\n",
       "                            <p id=\"primary\">guest_id</p>\n",
       "                            <span class=\"djtooltiptext\"></span>\n",
       "                        </div></th><th><div class=\"djtooltip\">\n",
       "                            <p id=\"nonprimary\">guest_name</p>\n",
       "                            <span class=\"djtooltiptext\"></span>\n",
       "                        </div> </th> </tr> </thead>\n",
       "            <tbody> <tr> <td>576988272</td>\n",
       "<td>Amy Ray</td></tr><tr><td>522963624</td>\n",
       "<td>Christopher Smith</td></tr><tr><td>1231311424</td>\n",
       "<td>Dylan Vincent</td></tr><tr><td>3760759381</td>\n",
       "<td>Jamie Atkinson</td></tr><tr><td>26727245</td>\n",
       "<td>Brandon Villarreal</td></tr><tr><td>120232026</td>\n",
       "<td>Ashley Williams</td></tr><tr><td>2783887783</td>\n",
       "<td>Emily Caldwell</td></tr><tr><td>290179231</td>\n",
       "<td>Judy Adkins</td> </tr> </tbody>\n",
       "        </table>\n",
       "        \n",
       "        <p>Total: 8</p></div>\n",
       "        "
      ],
      "text/plain": [
       "*guest_id      guest_name    \n",
       "+------------+ +------------+\n",
       "576988272      Amy Ray       \n",
       "522963624      Christopher Sm\n",
       "1231311424     Dylan Vincent \n",
       "3760759381     Jamie Atkinson\n",
       "26727245       Brandon Villar\n",
       "120232026      Ashley William\n",
       "2783887783     Emily Caldwell\n",
       "290179231      Judy Adkins   \n",
       " (Total: 8)"
      ]
     },
     "execution_count": 27,
     "metadata": {},
     "output_type": "execute_result"
    }
   ],
   "source": [
    "Guest & (Reservation * CheckIn & 'room=1')"
   ]
  },
  {
   "cell_type": "code",
   "execution_count": 28,
   "id": "d24bccfb",
   "metadata": {},
   "outputs": [
    {
     "data": {
      "text/plain": [
       "'SELECT `guest_id`,`guest_name` FROM `shared_hotel`.`guest` WHERE ((`guest_id`) in (SELECT `guest_id` FROM `shared_hotel`.`reservation` NATURAL JOIN `shared_hotel`.`check_in` WHERE (room=1)))'"
      ]
     },
     "execution_count": 28,
     "metadata": {},
     "output_type": "execute_result"
    }
   ],
   "source": [
    "_.make_sql()"
   ]
  },
  {
   "cell_type": "markdown",
   "id": "d281a8f4",
   "metadata": {},
   "source": [
    "## Query 2: List all nights when a guest stayed at a hotel"
   ]
  },
  {
   "cell_type": "code",
   "execution_count": 29,
   "id": "37156855",
   "metadata": {},
   "outputs": [],
   "source": [
    "# pick a guest\n",
    "guest = random.choice(Guest().fetch('KEY'))"
   ]
  },
  {
   "cell_type": "code",
   "execution_count": 30,
   "id": "f166cbe4",
   "metadata": {},
   "outputs": [
    {
     "data": {
      "text/plain": [
       "{'guest_id': 522963624}"
      ]
     },
     "execution_count": 30,
     "metadata": {},
     "output_type": "execute_result"
    }
   ],
   "source": [
    "guest"
   ]
  },
  {
   "cell_type": "code",
   "execution_count": 31,
   "id": "63504e50",
   "metadata": {},
   "outputs": [
    {
     "data": {
      "text/html": [
       "\n",
       "    \n",
       "    <style type=\"text/css\">\n",
       "        .Relation{\n",
       "            border-collapse:collapse;\n",
       "        }\n",
       "        .Relation th{\n",
       "            background: #A0A0A0; color: #ffffff; padding:4px; border:#f0e0e0 1px solid;\n",
       "            font-weight: normal; font-family: monospace; font-size: 100%;\n",
       "        }\n",
       "        .Relation td{\n",
       "            padding:4px; border:#f0e0e0 1px solid; font-size:100%;\n",
       "        }\n",
       "        .Relation tr:nth-child(odd){\n",
       "            background: #ffffff;\n",
       "        }\n",
       "        .Relation tr:nth-child(even){\n",
       "            background: #f3f1ff;\n",
       "        }\n",
       "        /* Tooltip container */\n",
       "        .djtooltip {\n",
       "        }\n",
       "        /* Tooltip text */\n",
       "        .djtooltip .djtooltiptext {\n",
       "            visibility: hidden;\n",
       "            width: 120px;\n",
       "            background-color: black;\n",
       "            color: #fff;\n",
       "            text-align: center;\n",
       "            padding: 5px 0;\n",
       "            border-radius: 6px;\n",
       "            /* Position the tooltip text - see examples below! */\n",
       "            position: absolute;\n",
       "            z-index: 1;\n",
       "        }\n",
       "        #primary {\n",
       "            font-weight: bold;\n",
       "            color: black;\n",
       "        }\n",
       "        #nonprimary {\n",
       "            font-weight: normal;\n",
       "            color: white;\n",
       "        }\n",
       "\n",
       "        /* Show the tooltip text when you mouse over the tooltip container */\n",
       "        .djtooltip:hover .djtooltiptext {\n",
       "            visibility: visible;\n",
       "        }\n",
       "    </style>\n",
       "    \n",
       "    \n",
       "        <div style=\"max-height:1000px;max-width:1500px;overflow:auto;\">\n",
       "        <table border=\"1\" class=\"Relation\">\n",
       "            <thead> <tr style=\"text-align: right;\"> <th> <div class=\"djtooltip\">\n",
       "                            <p id=\"primary\">room</p>\n",
       "                            <span class=\"djtooltiptext\"></span>\n",
       "                        </div></th><th><div class=\"djtooltip\">\n",
       "                            <p id=\"primary\">date</p>\n",
       "                            <span class=\"djtooltiptext\"></span>\n",
       "                        </div> </th> </tr> </thead>\n",
       "            <tbody> <tr> <td>0</td>\n",
       "<td>2021-11-08</td></tr><tr><td>1</td>\n",
       "<td>2021-10-03</td></tr><tr><td>4</td>\n",
       "<td>2021-10-04</td></tr><tr><td>11</td>\n",
       "<td>2021-10-16</td></tr><tr><td>24</td>\n",
       "<td>2021-10-08</td></tr><tr><td>36</td>\n",
       "<td>2021-10-01</td></tr><tr><td>39</td>\n",
       "<td>2021-10-22</td></tr><tr><td>54</td>\n",
       "<td>2021-11-10</td></tr><tr><td>74</td>\n",
       "<td>2021-10-12</td></tr><tr><td>74</td>\n",
       "<td>2021-10-29</td> </tr> </tbody>\n",
       "        </table>\n",
       "        \n",
       "        <p>Total: 10</p></div>\n",
       "        "
      ],
      "text/plain": [
       "*room    *date         \n",
       "+------+ +------------+\n",
       "0        2021-11-08    \n",
       "1        2021-10-03    \n",
       "4        2021-10-04    \n",
       "11       2021-10-16    \n",
       "24       2021-10-08    \n",
       "36       2021-10-01    \n",
       "39       2021-10-22    \n",
       "54       2021-11-10    \n",
       "74       2021-10-12    \n",
       "74       2021-10-29    \n",
       " (Total: 10)"
      ]
     },
     "execution_count": 31,
     "metadata": {},
     "output_type": "execute_result"
    }
   ],
   "source": [
    "(Reservation * CheckIn & guest).proj()"
   ]
  },
  {
   "cell_type": "code",
   "execution_count": null,
   "id": "6f8d93df",
   "metadata": {},
   "outputs": [],
   "source": []
  }
 ],
 "metadata": {
  "kernelspec": {
   "display_name": "benv",
   "language": "python",
   "name": "benv"
  },
  "language_info": {
   "codemirror_mode": {
    "name": "ipython",
    "version": 3
   },
   "file_extension": ".py",
   "mimetype": "text/x-python",
   "name": "python",
   "nbconvert_exporter": "python",
   "pygments_lexer": "ipython3",
   "version": "3.10.4"
  }
 },
 "nbformat": 4,
 "nbformat_minor": 5
}
