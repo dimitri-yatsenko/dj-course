{
 "cells": [
  {
   "cell_type": "markdown",
   "metadata": {},
   "source": [
    "# UUIDs\n",
    "## Background\n",
    "Universally Unique Identifiers (UUIDs) provide convenient mechanisms for identifying pieces of information (objects) inside an information system. Various conventions exist. However, general patterns have been established and formalized as RFC 4122.\n",
    "\n",
    "Comprised of hex digits, UUIDs have the pattern `8-4-4-4-12`, e.g. `e45ba2cc-39db-11e9-8e62-7470fdf23ef1`.\n",
    "\n",
    "It adds up to 36 characters (32 hex + 4 hyphens), or 16 bytes of information (128 bits).\n",
    "\n",
    "Python provides a [UUID module](https://docs.python.org/3/library/uuid.html) in its standard library."
   ]
  },
  {
   "cell_type": "code",
   "execution_count": 1,
   "metadata": {},
   "outputs": [],
   "source": [
    "import uuid"
   ]
  },
  {
   "cell_type": "code",
   "execution_count": 2,
   "metadata": {},
   "outputs": [
    {
     "name": "stdout",
     "output_type": "stream",
     "text": [
      "Help on function uuid1 in module uuid:\n",
      "\n",
      "uuid1(node=None, clock_seq=None)\n",
      "    Generate a UUID from a host ID, sequence number, and the current time.\n",
      "    If 'node' is not given, getnode() is used to obtain the hardware\n",
      "    address.  If 'clock_seq' is given, it is used as the sequence number;\n",
      "    otherwise a random 14-bit sequence number is chosen.\n",
      "\n"
     ]
    }
   ],
   "source": [
    "help(uuid.uuid1)"
   ]
  },
  {
   "cell_type": "code",
   "execution_count": 6,
   "metadata": {},
   "outputs": [
    {
     "data": {
      "text/plain": [
       "UUID('67cefa94-3949-11ed-b8e5-acde48001122')"
      ]
     },
     "execution_count": 6,
     "metadata": {},
     "output_type": "execute_result"
    }
   ],
   "source": [
    "uuid.uuid1()"
   ]
  },
  {
   "cell_type": "code",
   "execution_count": 10,
   "metadata": {},
   "outputs": [
    {
     "data": {
      "text/plain": [
       "[UUID('95486938-3949-11ed-b8e5-acde48001122'),\n",
       " UUID('954869ce-3949-11ed-b8e5-acde48001122'),\n",
       " UUID('954869f6-3949-11ed-b8e5-acde48001122'),\n",
       " UUID('95486a6e-3949-11ed-b8e5-acde48001122'),\n",
       " UUID('95486a8c-3949-11ed-b8e5-acde48001122'),\n",
       " UUID('95486aaa-3949-11ed-b8e5-acde48001122'),\n",
       " UUID('95486abe-3949-11ed-b8e5-acde48001122'),\n",
       " UUID('95486adc-3949-11ed-b8e5-acde48001122')]"
      ]
     },
     "execution_count": 10,
     "metadata": {},
     "output_type": "execute_result"
    }
   ],
   "source": [
    "# use the current hardware address and time\n",
    "[uuid.uuid1() for _ in range(8)]"
   ]
  },
  {
   "cell_type": "code",
   "execution_count": 11,
   "metadata": {},
   "outputs": [
    {
     "data": {
      "text/plain": [
       "[UUID('a58e34e4-3949-11ed-b8e5-acde48001122'),\n",
       " UUID('a58e3570-3949-11ed-b8e5-acde48001122'),\n",
       " UUID('a58e35a2-3949-11ed-b8e5-acde48001122'),\n",
       " UUID('a58e35c0-3949-11ed-b8e5-acde48001122'),\n",
       " UUID('a58e35de-3949-11ed-b8e5-acde48001122')]"
      ]
     },
     "execution_count": 11,
     "metadata": {},
     "output_type": "execute_result"
    }
   ],
   "source": [
    "# use the current hardware address and time\n",
    "[uuid.uuid1() for _ in range(5)]"
   ]
  },
  {
   "cell_type": "code",
   "execution_count": 12,
   "metadata": {},
   "outputs": [
    {
     "data": {
      "text/plain": [
       "[UUID('c2712a4e-3949-11ed-8001-000000000003'),\n",
       " UUID('c2712af8-3949-11ed-8001-000000000003'),\n",
       " UUID('c2712b34-3949-11ed-8001-000000000003'),\n",
       " UUID('c2712b5c-3949-11ed-8001-000000000003'),\n",
       " UUID('c2712b84-3949-11ed-8001-000000000003')]"
      ]
     },
     "execution_count": 12,
     "metadata": {},
     "output_type": "execute_result"
    }
   ],
   "source": [
    "# use fixed values\n",
    "[uuid.uuid1(3, 1) for _ in range(5)]"
   ]
  },
  {
   "cell_type": "code",
   "execution_count": 13,
   "metadata": {},
   "outputs": [
    {
     "name": "stdout",
     "output_type": "stream",
     "text": [
      "Help on function uuid1 in module uuid:\n",
      "\n",
      "uuid1(node=None, clock_seq=None)\n",
      "    Generate a UUID from a host ID, sequence number, and the current time.\n",
      "    If 'node' is not given, getnode() is used to obtain the hardware\n",
      "    address.  If 'clock_seq' is given, it is used as the sequence number;\n",
      "    otherwise a random 14-bit sequence number is chosen.\n",
      "\n"
     ]
    }
   ],
   "source": [
    "help(uuid.uuid1)"
   ]
  },
  {
   "cell_type": "code",
   "execution_count": 14,
   "metadata": {},
   "outputs": [
    {
     "name": "stdout",
     "output_type": "stream",
     "text": [
      "Help on function uuid3 in module uuid:\n",
      "\n",
      "uuid3(namespace, name)\n",
      "    Generate a UUID from the MD5 hash of a namespace UUID and a name.\n",
      "\n"
     ]
    }
   ],
   "source": [
    "help(uuid.uuid3)"
   ]
  },
  {
   "cell_type": "code",
   "execution_count": 15,
   "metadata": {},
   "outputs": [
    {
     "name": "stdout",
     "output_type": "stream",
     "text": [
      "Help on function uuid5 in module uuid:\n",
      "\n",
      "uuid5(namespace, name)\n",
      "    Generate a UUID from the SHA-1 hash of a namespace UUID and a name.\n",
      "\n"
     ]
    }
   ],
   "source": [
    "help(uuid.uuid5)"
   ]
  },
  {
   "cell_type": "code",
   "execution_count": 16,
   "metadata": {},
   "outputs": [],
   "source": [
    "top = uuid.UUID('00000000-0000-0000-0000-000000000000')\n"
   ]
  },
  {
   "cell_type": "code",
   "execution_count": 17,
   "metadata": {},
   "outputs": [
    {
     "data": {
      "text/plain": [
       "UUID('00000000-0000-0000-0000-000000000000')"
      ]
     },
     "execution_count": 17,
     "metadata": {},
     "output_type": "execute_result"
    }
   ],
   "source": [
    "top"
   ]
  },
  {
   "cell_type": "code",
   "execution_count": 18,
   "metadata": {},
   "outputs": [
    {
     "data": {
      "text/plain": [
       "UUID('913e0174-a390-5c08-b50a-623690546dd5')"
      ]
     },
     "execution_count": 18,
     "metadata": {},
     "output_type": "execute_result"
    }
   ],
   "source": [
    "topic = uuid.uuid5(top, 'Neuroscience')\n",
    "topic"
   ]
  },
  {
   "cell_type": "code",
   "execution_count": 19,
   "metadata": {},
   "outputs": [
    {
     "data": {
      "text/plain": [
       "UUID('b5804c3f-57b1-54e3-8176-3b45aa443a97')"
      ]
     },
     "execution_count": 19,
     "metadata": {},
     "output_type": "execute_result"
    }
   ],
   "source": [
    "subject1 = uuid.uuid5(topic, 'Habenula')\n",
    "subject1"
   ]
  },
  {
   "cell_type": "code",
   "execution_count": 20,
   "metadata": {},
   "outputs": [
    {
     "data": {
      "text/plain": [
       "(UUID('345b4a08-7955-5b86-8646-f0826799afe9'),\n",
       " UUID('b5804c3f-57b1-54e3-8176-3b45aa443a97'),\n",
       " UUID('58571fff-c6bd-583f-88ac-ef0b8ff2981f'),\n",
       " UUID('b5804c3f-57b1-54e3-8176-3b45aa443a97'),\n",
       " UUID('6340129b-3a59-5354-aec6-5df769ae2ce7'))"
      ]
     },
     "execution_count": 20,
     "metadata": {},
     "output_type": "execute_result"
    }
   ],
   "source": [
    "top = uuid.UUID('00000000-0000-0000-0000-000000000000')\n",
    "topic = uuid.uuid5(top, 'Neuroscience')\n",
    "subject1 = uuid.uuid5(topic, 'Habenula')\n",
    "subject2 = uuid.uuid5(topic, 'Entorhinal cortex')\n",
    "subject3 = uuid.uuid5(topic, 'Habenula')\n",
    "\n",
    "topic = uuid.uuid5(top, 'Philosophy')\n",
    "subject4 = uuid.uuid5(topic, 'Habenula')\n",
    "\n",
    "topic, subject1, subject2, subject3, subject4"
   ]
  },
  {
   "cell_type": "code",
   "execution_count": 21,
   "metadata": {},
   "outputs": [
    {
     "data": {
      "text/plain": [
       "UUID('3d9d9035-dec3-5fc8-b66c-38cd8537acbe')"
      ]
     },
     "execution_count": 21,
     "metadata": {},
     "output_type": "execute_result"
    }
   ],
   "source": [
    "uuid.uuid5(subject4, 'study'*1000000)"
   ]
  },
  {
   "cell_type": "code",
   "execution_count": 22,
   "metadata": {},
   "outputs": [
    {
     "name": "stdout",
     "output_type": "stream",
     "text": [
      "Help on function uuid4 in module uuid:\n",
      "\n",
      "uuid4()\n",
      "    Generate a random UUID.\n",
      "\n"
     ]
    }
   ],
   "source": [
    "help(uuid.uuid4)"
   ]
  },
  {
   "cell_type": "code",
   "execution_count": 23,
   "metadata": {},
   "outputs": [
    {
     "data": {
      "text/plain": [
       "[UUID('5d24200a-bb19-4a0f-b22a-ff41edf22ada'),\n",
       " UUID('3fec50a4-124d-4666-a30b-58d46be3a774'),\n",
       " UUID('f62e4a91-bbd1-4895-ad57-7c0c71a8b105'),\n",
       " UUID('c16a14df-555f-4b3a-8907-40c5237c58a2'),\n",
       " UUID('8e425bf1-3d5e-4f3e-adbd-c1a7f86fc19d'),\n",
       " UUID('66d2183f-1352-420e-817a-ee3a65d60892'),\n",
       " UUID('667d7190-54ec-4357-ae77-dc8e365d71c2'),\n",
       " UUID('a3281c04-8fb5-4d14-90e9-34deef7888b3'),\n",
       " UUID('ff981bdc-bdfb-4dba-986a-978947654baf'),\n",
       " UUID('bffb4978-f1bb-4a74-a27d-729bbee1f295'),\n",
       " UUID('83a5e51b-68e3-4775-84f9-4784db5f3151'),\n",
       " UUID('bb924876-08ec-4b78-ae4a-2656448adfda')]"
      ]
     },
     "execution_count": 23,
     "metadata": {},
     "output_type": "execute_result"
    }
   ],
   "source": [
    "[uuid.uuid4() for _ in range(12)]"
   ]
  },
  {
   "cell_type": "markdown",
   "metadata": {},
   "source": [
    "## UUIDs in DataJoint"
   ]
  },
  {
   "cell_type": "code",
   "execution_count": 24,
   "metadata": {},
   "outputs": [
    {
     "data": {
      "text/plain": [
       "'0.13.7'"
      ]
     },
     "execution_count": 24,
     "metadata": {},
     "output_type": "execute_result"
    }
   ],
   "source": [
    "import datajoint as dj\n",
    "dj.__version__"
   ]
  },
  {
   "cell_type": "code",
   "execution_count": 25,
   "metadata": {},
   "outputs": [
    {
     "name": "stderr",
     "output_type": "stream",
     "text": [
      "[2022-09-20 18:13:24,758][INFO]: Connecting dimitri@db.ust-data-sci.net:3306\n",
      "[2022-09-20 18:13:25,542][INFO]: Connected dimitri@db.ust-data-sci.net:3306\n"
     ]
    }
   ],
   "source": [
    "schema = dj.schema('dimitri_uuid')"
   ]
  },
  {
   "cell_type": "code",
   "execution_count": 26,
   "metadata": {},
   "outputs": [],
   "source": [
    "@schema\n",
    "class Message(dj.Manual):\n",
    "    definition = \"\"\"\n",
    "    message_id : uuid  # internal message id\n",
    "    ---\n",
    "    message_body : varchar(1000) \n",
    "    \"\"\""
   ]
  },
  {
   "cell_type": "code",
   "execution_count": null,
   "metadata": {},
   "outputs": [],
   "source": [
    "Message.describe();"
   ]
  },
  {
   "cell_type": "code",
   "execution_count": 27,
   "metadata": {},
   "outputs": [
    {
     "data": {
      "text/plain": [
       "'`message_id` binary(16) NOT NULL COMMENT \":uuid:internal message id\"'"
      ]
     },
     "execution_count": 27,
     "metadata": {},
     "output_type": "execute_result"
    }
   ],
   "source": [
    "# For the curious: Internally, DataJoint represents uuids as BINARY(16) \n",
    "Message.heading['message_id'].sql"
   ]
  },
  {
   "cell_type": "code",
   "execution_count": 29,
   "metadata": {},
   "outputs": [],
   "source": [
    "Message.insert1((uuid.uuid1(), 'Hello, world!'))\n",
    "Message.insert1((uuid.uuid1(), 'Cogito ergo sum'))"
   ]
  },
  {
   "cell_type": "code",
   "execution_count": 30,
   "metadata": {},
   "outputs": [
    {
     "data": {
      "text/html": [
       "\n",
       "    \n",
       "    <style type=\"text/css\">\n",
       "        .Relation{\n",
       "            border-collapse:collapse;\n",
       "        }\n",
       "        .Relation th{\n",
       "            background: #A0A0A0; color: #ffffff; padding:4px; border:#f0e0e0 1px solid;\n",
       "            font-weight: normal; font-family: monospace; font-size: 100%;\n",
       "        }\n",
       "        .Relation td{\n",
       "            padding:4px; border:#f0e0e0 1px solid; font-size:100%;\n",
       "        }\n",
       "        .Relation tr:nth-child(odd){\n",
       "            background: #ffffff;\n",
       "        }\n",
       "        .Relation tr:nth-child(even){\n",
       "            background: #f3f1ff;\n",
       "        }\n",
       "        /* Tooltip container */\n",
       "        .djtooltip {\n",
       "        }\n",
       "        /* Tooltip text */\n",
       "        .djtooltip .djtooltiptext {\n",
       "            visibility: hidden;\n",
       "            width: 120px;\n",
       "            background-color: black;\n",
       "            color: #fff;\n",
       "            text-align: center;\n",
       "            padding: 5px 0;\n",
       "            border-radius: 6px;\n",
       "            /* Position the tooltip text - see examples below! */\n",
       "            position: absolute;\n",
       "            z-index: 1;\n",
       "        }\n",
       "        #primary {\n",
       "            font-weight: bold;\n",
       "            color: black;\n",
       "        }\n",
       "        #nonprimary {\n",
       "            font-weight: normal;\n",
       "            color: white;\n",
       "        }\n",
       "\n",
       "        /* Show the tooltip text when you mouse over the tooltip container */\n",
       "        .djtooltip:hover .djtooltiptext {\n",
       "            visibility: visible;\n",
       "        }\n",
       "    </style>\n",
       "    \n",
       "    <b></b>\n",
       "        <div style=\"max-height:1000px;max-width:1500px;overflow:auto;\">\n",
       "        <table border=\"1\" class=\"Relation\">\n",
       "            <thead> <tr style=\"text-align: right;\"> <th> <div class=\"djtooltip\">\n",
       "                            <p id=\"primary\">message_id</p>\n",
       "                            <span class=\"djtooltiptext\">internal message id</span>\n",
       "                        </div></th><th><div class=\"djtooltip\">\n",
       "                            <p id=\"nonprimary\">message_body</p>\n",
       "                            <span class=\"djtooltiptext\"></span>\n",
       "                        </div> </th> </tr> </thead>\n",
       "            <tbody> <tr> <td>d79bd2ce-394a-11ed-b8e5-acde48001122</td>\n",
       "<td>Hello, world!</td></tr><tr><td>d7a8b46c-394a-11ed-b8e5-acde48001122</td>\n",
       "<td>Cogito ergo sum</td> </tr> </tbody>\n",
       "        </table>\n",
       "        \n",
       "        <p>Total: 2</p></div>\n",
       "        "
      ],
      "text/plain": [
       "*message_id    message_body  \n",
       "+------------+ +------------+\n",
       "d79bd2ce-394a- Hello, world! \n",
       "d7a8b46c-394a- Cogito ergo su\n",
       " (Total: 2)"
      ]
     },
     "execution_count": 30,
     "metadata": {},
     "output_type": "execute_result"
    }
   ],
   "source": [
    "Message()"
   ]
  },
  {
   "cell_type": "code",
   "execution_count": 31,
   "metadata": {},
   "outputs": [],
   "source": [
    "Message.insert1((uuid.uuid1(), 'I will be back'))\n",
    "Message.insert1((uuid.uuid1(), 'Must destroy humans.'))"
   ]
  },
  {
   "cell_type": "code",
   "execution_count": null,
   "metadata": {},
   "outputs": [],
   "source": [
    "b = uuid.uuid4().bytes\n",
    "b"
   ]
  },
  {
   "cell_type": "code",
   "execution_count": null,
   "metadata": {},
   "outputs": [],
   "source": [
    "uuid.UUID(bytes=b)"
   ]
  },
  {
   "cell_type": "code",
   "execution_count": null,
   "metadata": {},
   "outputs": [],
   "source": [
    "Message()"
   ]
  },
  {
   "cell_type": "code",
   "execution_count": null,
   "metadata": {},
   "outputs": [],
   "source": [
    "Message.insert1((uuid.uuid4(), 'Hasta la vista baby'))"
   ]
  },
  {
   "cell_type": "code",
   "execution_count": null,
   "metadata": {},
   "outputs": [],
   "source": [
    "Message()"
   ]
  },
  {
   "cell_type": "code",
   "execution_count": 32,
   "metadata": {},
   "outputs": [],
   "source": [
    "@schema\n",
    "class Comment(dj.Manual):\n",
    "    definition = \"\"\"\n",
    "    comment_id : uuid\n",
    "    --- \n",
    "    -> Message\n",
    "    comment_body : varchar(1000)\n",
    "    \"\"\""
   ]
  },
  {
   "cell_type": "code",
   "execution_count": null,
   "metadata": {},
   "outputs": [],
   "source": [
    "# For the curious: This is how the table was declared in SQL\n",
    "print(schema.connection.query('show create table `dimitri_uuid`.`comment`').fetchall()[0][1])"
   ]
  },
  {
   "cell_type": "code",
   "execution_count": 33,
   "metadata": {},
   "outputs": [
    {
     "data": {
      "image/svg+xml": [
       "<svg xmlns=\"http://www.w3.org/2000/svg\" xmlns:xlink=\"http://www.w3.org/1999/xlink\" width=\"76pt\" height=\"114pt\" viewBox=\"0.00 0.00 76.00 114.00\">\n",
       "<g id=\"graph0\" class=\"graph\" transform=\"scale(1 1) rotate(0) translate(4 110)\">\n",
       "<polygon fill=\"white\" stroke=\"none\" points=\"-4,4 -4,-110 72,-110 72,4 -4,4\"/>\n",
       "<!-- Message -->\n",
       "<g id=\"node1\" class=\"node\">\n",
       "<title>Message</title>\n",
       "<g id=\"a_node1\"><a xlink:title=\"message_id           \r",
       "------------------------------\r",
       "message_body         \r",
       "\">\n",
       "<polygon fill=\"#00ff00\" fill-opacity=\"0.188235\" stroke=\"#00ff00\" stroke-opacity=\"0.188235\" points=\"66.5,-106 1.5,-106 1.5,-71 66.5,-71 66.5,-106\"/>\n",
       "<text text-anchor=\"start\" x=\"9.5\" y=\"-86.4\" font-family=\"arial\" text-decoration=\"underline\" font-size=\"12.00\" fill=\"darkgreen\">Message</text>\n",
       "</a>\n",
       "</g>\n",
       "</g>\n",
       "<!-- Comment -->\n",
       "<g id=\"node2\" class=\"node\">\n",
       "<title>Comment</title>\n",
       "<g id=\"a_node2\"><a xlink:title=\"comment_id           \r",
       "------------------------------\r",
       "→ Message\r",
       "comment_body         \r",
       "\">\n",
       "<polygon fill=\"#00ff00\" fill-opacity=\"0.188235\" stroke=\"#00ff00\" stroke-opacity=\"0.188235\" points=\"68,-35 0,-35 0,0 68,0 68,-35\"/>\n",
       "<text text-anchor=\"start\" x=\"8\" y=\"-15.4\" font-family=\"arial\" text-decoration=\"underline\" font-size=\"12.00\" fill=\"darkgreen\">Comment</text>\n",
       "</a>\n",
       "</g>\n",
       "</g>\n",
       "<!-- Message&#45;&gt;Comment -->\n",
       "<g id=\"edge1\" class=\"edge\">\n",
       "<title>Message-&gt;Comment</title>\n",
       "<path fill=\"none\" stroke=\"#000000\" stroke-width=\"0.75\" stroke-dasharray=\"5,2\" stroke-opacity=\"0.250980\" d=\"M34,-70.8C34,-59.95 34,-45.87 34,-35.05\"/>\n",
       "</g>\n",
       "</g>\n",
       "</svg>"
      ],
      "text/plain": [
       "<datajoint.diagram.Diagram at 0x7fa84087a100>"
      ]
     },
     "execution_count": 33,
     "metadata": {},
     "output_type": "execute_result"
    }
   ],
   "source": [
    "dj.Diagram(schema)"
   ]
  },
  {
   "cell_type": "code",
   "execution_count": null,
   "metadata": {},
   "outputs": [],
   "source": [
    "keys = Message.fetch('KEY')"
   ]
  },
  {
   "cell_type": "code",
   "execution_count": null,
   "metadata": {},
   "outputs": [],
   "source": [
    "keys"
   ]
  },
  {
   "cell_type": "code",
   "execution_count": null,
   "metadata": {},
   "outputs": [],
   "source": [
    "Comment.insert1(dict(keys[0], comment_id=uuid.uuid1(), comment_body=\"thank you\"))"
   ]
  },
  {
   "cell_type": "code",
   "execution_count": null,
   "metadata": {},
   "outputs": [],
   "source": [
    "Message* Comment"
   ]
  },
  {
   "cell_type": "code",
   "execution_count": null,
   "metadata": {
    "scrolled": true
   },
   "outputs": [],
   "source": [
    "Message * Comment & keys[0]"
   ]
  },
  {
   "cell_type": "code",
   "execution_count": null,
   "metadata": {},
   "outputs": [],
   "source": [
    "Message & keys[1:4]"
   ]
  },
  {
   "cell_type": "code",
   "execution_count": null,
   "metadata": {},
   "outputs": [],
   "source": [
    "Comment.insert1(dict(keys[1], comment_id=uuid.uuid1(), comment_body=\"thank you\"))"
   ]
  },
  {
   "cell_type": "code",
   "execution_count": null,
   "metadata": {},
   "outputs": [],
   "source": [
    "Comment()"
   ]
  },
  {
   "cell_type": "code",
   "execution_count": null,
   "metadata": {},
   "outputs": [],
   "source": [
    "Message & Comment"
   ]
  },
  {
   "cell_type": "code",
   "execution_count": null,
   "metadata": {},
   "outputs": [],
   "source": [
    "Message * Comment"
   ]
  },
  {
   "cell_type": "code",
   "execution_count": null,
   "metadata": {},
   "outputs": [],
   "source": []
  }
 ],
 "metadata": {
  "kernelspec": {
   "display_name": "Python 3 (ipykernel)",
   "language": "python",
   "name": "python3"
  },
  "language_info": {
   "codemirror_mode": {
    "name": "ipython",
    "version": 3
   },
   "file_extension": ".py",
   "mimetype": "text/x-python",
   "name": "python",
   "nbconvert_exporter": "python",
   "pygments_lexer": "ipython3",
   "version": "3.9.7"
  }
 },
 "nbformat": 4,
 "nbformat_minor": 2
}
