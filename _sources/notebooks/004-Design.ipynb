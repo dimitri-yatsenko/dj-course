{
 "cells": [
  {
   "cell_type": "markdown",
   "metadata": {},
   "source": [
    "# Problem Statement: \"The Phone App\"\n",
    "\n",
    "You are designing a smart phone app\n",
    "\n",
    "1. Users can subscribe for a free account identified by their US phone number without extensions. Provide first and last name, date of birth (optional), and sex (optional).\n",
    "2. Users can add one or more credits cards to their account. Store zipcode, expiration date, and the CVV.\n",
    "3. The app has paid add-ons called \"Track & Field\", \"Marathon\", and \"Sprint\", each with a fixed price.\n",
    "4. A user can purchase each add-on, in which case she must provide a credit card for the purchase. Include a purchase date. A user cannot purchase the same addon twice. "
   ]
  },
  {
   "cell_type": "markdown",
   "metadata": {},
   "source": [
    "# Design"
   ]
  },
  {
   "cell_type": "code",
   "execution_count": null,
   "metadata": {},
   "outputs": [],
   "source": [
    "import datajoint as dj\n",
    "\n",
    "schema = dj.Schema('app')"
   ]
  },
  {
   "cell_type": "code",
   "execution_count": null,
   "metadata": {},
   "outputs": [],
   "source": [
    "@schema\n",
    "class Account(dj.Manual):\n",
    "    definition = \"\"\"\n",
    "    phone : bigint unsigned \n",
    "    ---\n",
    "    first_name : varchar(30)\n",
    "    last_name : varchar(30)\n",
    "    dob=null : date\n",
    "    sex='' : enum('F', 'M', '')\n",
    "    \"\"\"\n"
   ]
  },
  {
   "cell_type": "code",
   "execution_count": null,
   "metadata": {},
   "outputs": [],
   "source": [
    "@schema\n",
    "class CreditCard(dj.Manual):\n",
    "    definition = \"\"\"\n",
    "    card_number :  bigint unsigned \n",
    "    ---\n",
    "    exp_date : date \n",
    "    cvv      : smallint unsigned\n",
    "    zipcode  : int unsigned       \n",
    "    -> Account\n",
    "    \"\"\""
   ]
  },
  {
   "cell_type": "code",
   "execution_count": null,
   "metadata": {},
   "outputs": [],
   "source": [
    "@schema\n",
    "class AddOn(dj.Lookup):\n",
    "    definition = \"\"\"\n",
    "    addon_id : int\n",
    "    ---\n",
    "    addon_name : varchar(30)\n",
    "    price : decimal(5, 2) unsigned\n",
    "    \"\"\"\n",
    "    contents = ((1, \"Track & Field\", 13.99), (2, \"Marathon\", 26.2), (3, \"Sprint\", 100.00))"
   ]
  },
  {
   "cell_type": "code",
   "execution_count": null,
   "metadata": {},
   "outputs": [],
   "source": [
    "AddOn()"
   ]
  },
  {
   "cell_type": "code",
   "execution_count": null,
   "metadata": {},
   "outputs": [],
   "source": [
    "@schema\n",
    "class Purchase(dj.Manual):\n",
    "    definition = \"\"\"\n",
    "    -> Account\n",
    "    -> AddOn\n",
    "    ---\n",
    "    -> CreditCard\n",
    "    purchase_date : date \n",
    "    \"\"\""
   ]
  },
  {
   "cell_type": "code",
   "execution_count": null,
   "metadata": {},
   "outputs": [],
   "source": [
    "Purchase()"
   ]
  },
  {
   "cell_type": "code",
   "execution_count": null,
   "metadata": {},
   "outputs": [],
   "source": [
    "dj.Diagram(schema)"
   ]
  },
  {
   "cell_type": "markdown",
   "metadata": {},
   "source": [
    "# Populate \n",
    "Now we will populate the database with fake data"
   ]
  },
  {
   "cell_type": "code",
   "execution_count": null,
   "metadata": {},
   "outputs": [],
   "source": [
    "import random\n",
    "from tqdm import tqdm\n",
    "from faker import Faker\n",
    "fake = Faker()"
   ]
  },
  {
   "cell_type": "code",
   "execution_count": null,
   "metadata": {},
   "outputs": [],
   "source": [
    "# insert one account\n",
    "Account.insert1(dict(\n",
    "    phone=fake.random_int(1_000_000_0000, 9_999_999_9999),\n",
    "    first_name=fake.first_name_male(),\n",
    "    last_name=fake.last_name(),\n",
    "    sex=\"M\",\n",
    "    dob=fake.date_of_birth()))"
   ]
  },
  {
   "cell_type": "code",
   "execution_count": null,
   "metadata": {},
   "outputs": [],
   "source": [
    "# insert many male accounts\n",
    "Account.insert(dict(\n",
    "    phone=fake.random_int(1_000_000_0000, 9_999_999_9999),\n",
    "    first_name=fake.first_name_male(),\n",
    "    last_name=fake.last_name(),\n",
    "    sex='M',\n",
    "    dob=fake.date_of_birth()) for _ in range(5000))\n",
    "\n",
    "# insert many female accounts\n",
    "Account.insert(dict(\n",
    "    phone=fake.random_int(1_000_000_0000, 9_999_999_9999),\n",
    "    first_name=fake.first_name_female(),\n",
    "    last_name=fake.last_name(),\n",
    "    sex='F',\n",
    "    dob=fake.date_of_birth()) for _ in range(5000))\n",
    "\n",
    "# insert some accounts with no sex and no birthdate\n",
    "Account.insert(dict(\n",
    "    phone=fake.random_int(1_000_000_0000, 9_999_999_9999),\n",
    "    first_name=fake.first_name(),\n",
    "    last_name=fake.last_name()) for _ in range(500))"
   ]
  },
  {
   "cell_type": "code",
   "execution_count": null,
   "metadata": {},
   "outputs": [],
   "source": [
    "Account()"
   ]
  },
  {
   "cell_type": "code",
   "execution_count": null,
   "metadata": {},
   "outputs": [],
   "source": [
    "# get account ids:\n",
    "keys = Account.fetch(\"KEY\")"
   ]
  },
  {
   "cell_type": "code",
   "execution_count": null,
   "metadata": {},
   "outputs": [],
   "source": [
    "# insert one credit card\n",
    "CreditCard.insert1(\n",
    "    dict(random.choice(keys), \n",
    "         zipcode=random.randint(10000,99999), \n",
    "         card_number=int(fake.credit_card_number()),\n",
    "         cvv=random.randint(1, 999), \n",
    "         exp_date=fake.future_date()))"
   ]
  },
  {
   "cell_type": "code",
   "execution_count": null,
   "metadata": {},
   "outputs": [],
   "source": [
    "# insert many credit cards\n",
    "CreditCard.insert(\n",
    "    dict(random.choice(keys), \n",
    "         zipcode=random.randint(10000,99999), \n",
    "         card_number=int(fake.credit_card_number()),\n",
    "         cvv=random.randint(1, 999), \n",
    "         exp_date=fake.future_date()) for _ in range(15000))"
   ]
  },
  {
   "cell_type": "code",
   "execution_count": null,
   "metadata": {},
   "outputs": [],
   "source": [
    "# get all possible valid purchases, eliminate duplicate purchases that are under different cards\n",
    "purchases = (Account * CreditCard * AddOn - Purchase.proj()).fetch(\"KEY\", order_by=('phone', 'addon_id'))\n",
    "unique_purchases = [purchases.pop()]\n",
    "for purchase in purchases:\n",
    "    if (purchase['phone'], purchase['addon_id']) != (unique_purchases[-1]['phone'], unique_purchases[-1]['addon_id']):\n",
    "        unique_purchases.append(dict(purchase, purchase_date=fake.past_date()))\n",
    "\n",
    "# insert a random subset \n",
    "Purchase.insert(random.sample(unique_purchases, 5000))"
   ]
  },
  {
   "cell_type": "code",
   "execution_count": null,
   "metadata": {},
   "outputs": [],
   "source": [
    "schema.drop()     # optionally drop the schema to clear before the next run"
   ]
  },
  {
   "cell_type": "code",
   "execution_count": null,
   "metadata": {},
   "outputs": [],
   "source": []
  }
 ],
 "metadata": {
  "kernelspec": {
   "display_name": "Python 3",
   "language": "python",
   "name": "python3"
  },
  "language_info": {
   "codemirror_mode": {
    "name": "ipython",
    "version": 3
   },
   "file_extension": ".py",
   "mimetype": "text/x-python",
   "name": "python",
   "nbconvert_exporter": "python",
   "pygments_lexer": "ipython3",
   "version": "3.9.17"
  },
  "orig_nbformat": 4
 },
 "nbformat": 4,
 "nbformat_minor": 2
}
