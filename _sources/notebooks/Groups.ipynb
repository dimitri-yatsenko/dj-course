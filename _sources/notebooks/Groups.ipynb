{
 "cells": [
  {
   "cell_type": "markdown",
   "id": "8f11b2e4",
   "metadata": {},
   "source": [
    "# Groupings \n",
    "\n",
    "This notebook designs the schema `shared_projects` that specifies how teams are grouped for projects."
   ]
  },
  {
   "cell_type": "code",
   "execution_count": 1,
   "id": "b23f2a78",
   "metadata": {},
   "outputs": [],
   "source": [
    "import datajoint as dj"
   ]
  },
  {
   "cell_type": "code",
   "execution_count": 2,
   "id": "5ac109bb",
   "metadata": {},
   "outputs": [
    {
     "name": "stdout",
     "output_type": "stream",
     "text": [
      "Connecting dimitri@db.ust-db.link:3306\n"
     ]
    }
   ],
   "source": [
    "schema = dj.schema(\"shared_projects\")"
   ]
  },
  {
   "cell_type": "code",
   "execution_count": 3,
   "id": "3a4ee16d",
   "metadata": {},
   "outputs": [],
   "source": [
    "@schema\n",
    "class Student(dj.Manual):\n",
    "    definition = \"\"\"\n",
    "    username : varchar(12)\n",
    "    ---\n",
    "    first_name : varchar(30)\n",
    "    last_name : varchar(30)\n",
    "    \"\"\""
   ]
  },
  {
   "cell_type": "code",
   "execution_count": 4,
   "id": "f7863327",
   "metadata": {},
   "outputs": [],
   "source": [
    "# Insert student names from students.csv\n",
    "with open('students.csv') as f:\n",
    "    for line in f:\n",
    "        fields = line.split(',')\n",
    "        Student.insert1(dict(\n",
    "            last_name=fields[0].strip(),\n",
    "            first_name=fields[1].strip(),\n",
    "            username=fields[2].strip()), skip_duplicates=True)"
   ]
  },
  {
   "cell_type": "code",
   "execution_count": 5,
   "id": "1036bfa5",
   "metadata": {},
   "outputs": [
    {
     "data": {
      "text/html": [
       "\n",
       "    \n",
       "    <style type=\"text/css\">\n",
       "        .Relation{\n",
       "            border-collapse:collapse;\n",
       "        }\n",
       "        .Relation th{\n",
       "            background: #A0A0A0; color: #ffffff; padding:4px; border:#f0e0e0 1px solid;\n",
       "            font-weight: normal; font-family: monospace; font-size: 100%;\n",
       "        }\n",
       "        .Relation td{\n",
       "            padding:4px; border:#f0e0e0 1px solid; font-size:100%;\n",
       "        }\n",
       "        .Relation tr:nth-child(odd){\n",
       "            background: #ffffff;\n",
       "        }\n",
       "        .Relation tr:nth-child(even){\n",
       "            background: #f3f1ff;\n",
       "        }\n",
       "        /* Tooltip container */\n",
       "        .djtooltip {\n",
       "        }\n",
       "        /* Tooltip text */\n",
       "        .djtooltip .djtooltiptext {\n",
       "            visibility: hidden;\n",
       "            width: 120px;\n",
       "            background-color: black;\n",
       "            color: #fff;\n",
       "            text-align: center;\n",
       "            padding: 5px 0;\n",
       "            border-radius: 6px;\n",
       "            /* Position the tooltip text - see examples below! */\n",
       "            position: absolute;\n",
       "            z-index: 1;\n",
       "        }\n",
       "        #primary {\n",
       "            font-weight: bold;\n",
       "            color: black;\n",
       "        }\n",
       "        #nonprimary {\n",
       "            font-weight: normal;\n",
       "            color: white;\n",
       "        }\n",
       "\n",
       "        /* Show the tooltip text when you mouse over the tooltip container */\n",
       "        .djtooltip:hover .djtooltiptext {\n",
       "            visibility: visible;\n",
       "        }\n",
       "    </style>\n",
       "    \n",
       "    <b></b>\n",
       "        <div style=\"max-height:1000px;max-width:1500px;overflow:auto;\">\n",
       "        <table border=\"1\" class=\"Relation\">\n",
       "            <thead> <tr style=\"text-align: right;\"> <th> <div class=\"djtooltip\">\n",
       "                            <p id=\"primary\">username</p>\n",
       "                            <span class=\"djtooltiptext\"></span>\n",
       "                        </div></th><th><div class=\"djtooltip\">\n",
       "                            <p id=\"nonprimary\">first_name</p>\n",
       "                            <span class=\"djtooltiptext\"></span>\n",
       "                        </div></th><th><div class=\"djtooltip\">\n",
       "                            <p id=\"nonprimary\">last_name</p>\n",
       "                            <span class=\"djtooltiptext\"></span>\n",
       "                        </div> </th> </tr> </thead>\n",
       "            <tbody> <tr> <td>abellc</td>\n",
       "<td>Creed Wills</td>\n",
       "<td>Abell</td></tr><tr><td>antonie</td>\n",
       "<td>Elton Jose Carlos</td>\n",
       "<td>Antonio</td></tr><tr><td>byrneg</td>\n",
       "<td>Garrick T.</td>\n",
       "<td>Byrne</td></tr><tr><td>fuquend</td>\n",
       "<td>Daniela</td>\n",
       "<td>Fuquene</td></tr><tr><td>gallegjj</td>\n",
       "<td>Juan J</td>\n",
       "<td>Gallegos</td></tr><tr><td>hajdekd</td>\n",
       "<td>Dalibor</td>\n",
       "<td>Hajdek</td></tr><tr><td>hidalgdd</td>\n",
       "<td>Diana D.</td>\n",
       "<td>Hidalgo</td></tr><tr><td>kopinss</td>\n",
       "<td>Sebastian</td>\n",
       "<td>Kopinsky</td></tr><tr><td>llewis1</td>\n",
       "<td>Lareisha</td>\n",
       "<td>Lewis</td></tr><tr><td>lrharris</td>\n",
       "<td>Lacey R</td>\n",
       "<td>Harris</td></tr><tr><td>mhines</td>\n",
       "<td>Michael</td>\n",
       "<td>Hines</td></tr><tr><td>shussai</td>\n",
       "<td>Syed Kamran</td>\n",
       "<td>Hussain</td> </tr> </tbody>\n",
       "        </table>\n",
       "        <p>...</p>\n",
       "        <p>Total: 15</p></div>\n",
       "        "
      ],
      "text/plain": [
       "*username    first_name     last_name    \n",
       "+----------+ +------------+ +-----------+\n",
       "abellc       Creed Wills    Abell        \n",
       "antonie      Elton Jose Car Antonio      \n",
       "byrneg       Garrick T.     Byrne        \n",
       "fuquend      Daniela        Fuquene      \n",
       "gallegjj     Juan J         Gallegos     \n",
       "hajdekd      Dalibor        Hajdek       \n",
       "hidalgdd     Diana D.       Hidalgo      \n",
       "kopinss      Sebastian      Kopinsky     \n",
       "llewis1      Lareisha       Lewis        \n",
       "lrharris     Lacey R        Harris       \n",
       "mhines       Michael        Hines        \n",
       "shussai      Syed Kamran    Hussain      \n",
       "   ...\n",
       " (Total: 15)"
      ]
     },
     "execution_count": 5,
     "metadata": {},
     "output_type": "execute_result"
    }
   ],
   "source": [
    "Student()"
   ]
  },
  {
   "cell_type": "code",
   "execution_count": 5,
   "id": "54c99238",
   "metadata": {},
   "outputs": [],
   "source": [
    "@schema\n",
    "class Project(dj.Lookup):\n",
    "    definition = \"\"\"\n",
    "    project_number : int\n",
    "    ---\n",
    "    project_name : varchar(300)\n",
    "    due_date : date\n",
    "    \"\"\"\n",
    "    \n",
    "    contents = [\n",
    "        (4, \"Hotel database design\", \"2021-10-05\"),\n",
    "        (6, \"Join Queries\", \"2021-11-03\"),\n",
    "        (7, \"Aggregation Queries\", \"2021-11-10\"),\n",
    "        (8, \"Query Review\", \"2021-11-17\"),\n",
    "        (9, \"Final Project\", \"2021-12-12\")\n",
    "    ]"
   ]
  },
  {
   "cell_type": "code",
   "execution_count": 6,
   "id": "1fa6843c",
   "metadata": {},
   "outputs": [],
   "source": [
    "@schema\n",
    "class GroupAssignment(dj.Manual):\n",
    "    definition = \"\"\"\n",
    "    -> Project\n",
    "    -> Student\n",
    "    ---\n",
    "    group_id : int\n",
    "    \"\"\""
   ]
  },
  {
   "cell_type": "code",
   "execution_count": 13,
   "id": "3424eb13",
   "metadata": {},
   "outputs": [
    {
     "data": {
      "image/svg+xml": [
       "<svg xmlns=\"http://www.w3.org/2000/svg\" xmlns:xlink=\"http://www.w3.org/1999/xlink\" width=\"318pt\" height=\"114pt\" viewBox=\"0.00 0.00 318.00 114.00\">\n",
       "<g id=\"graph0\" class=\"graph\" transform=\"scale(1 1) rotate(0) translate(4 110)\">\n",
       "<polygon fill=\"white\" stroke=\"transparent\" points=\"-4,4 -4,-110 314,-110 314,4 -4,4\"/>\n",
       "<!-- `shared_projects`.`final__student` -->\n",
       "<g id=\"node1\" class=\"node\">\n",
       "<title>`shared_projects`.`final__student`</title>\n",
       "<polygon fill=\"transparent\" stroke=\"transparent\" points=\"170.5,-27 4.5,-27 4.5,-8 170.5,-8 170.5,-27\"/>\n",
       "<text text-anchor=\"middle\" x=\"87.5\" y=\"-15\" font-family=\"arial\" font-size=\"10.00\">`shared_projects`.`final__student`</text>\n",
       "</g>\n",
       "<!-- `shared_projects`.`final` -->\n",
       "<g id=\"node2\" class=\"node\">\n",
       "<title>`shared_projects`.`final`</title>\n",
       "<polygon fill=\"#00ff00\" fill-opacity=\"0.188235\" stroke=\"#00ff00\" stroke-opacity=\"0.188235\" points=\"143,-106 0,-106 0,-71 143,-71 143,-106\"/>\n",
       "<text text-anchor=\"start\" x=\"8\" y=\"-86.4\" font-family=\"arial\" text-decoration=\"underline\" font-size=\"12.00\" fill=\"darkgreen\">`shared_projects`.`final`</text>\n",
       "</g>\n",
       "<!-- `shared_projects`.`final`&#45;&gt;`shared_projects`.`final__student` -->\n",
       "<g id=\"edge1\" class=\"edge\">\n",
       "<title>`shared_projects`.`final`-&gt;`shared_projects`.`final__student`</title>\n",
       "<path fill=\"none\" stroke=\"#000000\" stroke-width=\"0.75\" stroke-opacity=\"0.250980\" d=\"M75.37,-70.8C78.55,-57.08 82.94,-38.19 85.47,-27.27\"/>\n",
       "</g>\n",
       "<!-- Student -->\n",
       "<g id=\"node3\" class=\"node\">\n",
       "<title>Student</title>\n",
       "<g id=\"a_node3\"><a xlink:title=\"username             \r",
       "------------------------------\r",
       "first_name           \r",
       "last_name            \r",
       "\">\n",
       "<polygon fill=\"#00ff00\" fill-opacity=\"0.188235\" stroke=\"#00ff00\" stroke-opacity=\"0.188235\" points=\"219.5,-106 161.5,-106 161.5,-71 219.5,-71 219.5,-106\"/>\n",
       "<text text-anchor=\"start\" x=\"169.5\" y=\"-86.4\" font-family=\"arial\" text-decoration=\"underline\" font-size=\"12.00\" fill=\"darkgreen\">Student</text>\n",
       "</a>\n",
       "</g>\n",
       "</g>\n",
       "<!-- Student&#45;&gt;`shared_projects`.`final__student` -->\n",
       "<g id=\"edge2\" class=\"edge\">\n",
       "<title>Student-&gt;`shared_projects`.`final__student`</title>\n",
       "<path fill=\"none\" stroke=\"#000000\" stroke-width=\"0.75\" stroke-opacity=\"0.250980\" d=\"M165.83,-70.97C145.24,-57.18 116.7,-38.06 100.37,-27.12\"/>\n",
       "</g>\n",
       "<!-- GroupAssignment -->\n",
       "<g id=\"node4\" class=\"node\">\n",
       "<title>GroupAssignment</title>\n",
       "<g id=\"a_node4\"><a xlink:title=\"→ Project\r",
       "→ Student\r",
       "------------------------------\r",
       "group_id             \r",
       "\">\n",
       "<polygon fill=\"#00ff00\" fill-opacity=\"0.188235\" stroke=\"#00ff00\" stroke-opacity=\"0.188235\" points=\"310,-35 197,-35 197,0 310,0 310,-35\"/>\n",
       "<text text-anchor=\"middle\" x=\"253.5\" y=\"-14.4\" font-family=\"arial\" font-size=\"12.00\" fill=\"darkgreen\">GroupAssignment</text>\n",
       "</a>\n",
       "</g>\n",
       "</g>\n",
       "<!-- Student&#45;&gt;GroupAssignment -->\n",
       "<g id=\"edge3\" class=\"edge\">\n",
       "<title>Student-&gt;GroupAssignment</title>\n",
       "<path fill=\"none\" stroke=\"#000000\" stroke-width=\"0.75\" stroke-opacity=\"0.250980\" d=\"M205.75,-70.8C215.66,-59.95 228.51,-45.87 238.39,-35.05\"/>\n",
       "</g>\n",
       "<!-- Project -->\n",
       "<g id=\"node5\" class=\"node\">\n",
       "<title>Project</title>\n",
       "<g id=\"a_node5\"><a xlink:title=\"project_number       \r",
       "------------------------------\r",
       "project_name         \r",
       "due_date             \r",
       "\">\n",
       "<polygon fill=\"#000000\" fill-opacity=\"0.125490\" stroke=\"transparent\" points=\"285.5,-106 237.5,-106 237.5,-71 285.5,-71 285.5,-106\"/>\n",
       "<text text-anchor=\"start\" x=\"245.5\" y=\"-87\" font-family=\"arial\" text-decoration=\"underline\" font-size=\"10.00\">Project</text>\n",
       "</a>\n",
       "</g>\n",
       "</g>\n",
       "<!-- Project&#45;&gt;GroupAssignment -->\n",
       "<g id=\"edge4\" class=\"edge\">\n",
       "<title>Project-&gt;GroupAssignment</title>\n",
       "<path fill=\"none\" stroke=\"#000000\" stroke-width=\"0.75\" stroke-opacity=\"0.250980\" d=\"M259.56,-70.8C258.31,-59.95 256.67,-45.87 255.42,-35.05\"/>\n",
       "</g>\n",
       "</g>\n",
       "</svg>"
      ],
      "text/plain": [
       "<datajoint.diagram.Diagram at 0x13bd682b0>"
      ]
     },
     "execution_count": 13,
     "metadata": {},
     "output_type": "execute_result"
    }
   ],
   "source": [
    "dj.Diagram(schema)"
   ]
  },
  {
   "cell_type": "code",
   "execution_count": 14,
   "id": "0ad34dda",
   "metadata": {},
   "outputs": [],
   "source": [
    "import itertools\n",
    "\n",
    "# Assign Project 4 groupings\n",
    "for k, r in zip(Student.fetch('KEY'), itertools.cycle(range(5))):\n",
    "    GroupAssignment.insert1(dict(k, project_number=4, group_id=r), skip_duplicates=True)\n",
    "    \n",
    "# Assign Project 6 groupings\n",
    "students = iter(Student.fetch('KEY'))\n",
    "for group_id in range(5):\n",
    "    for _ in range(3):\n",
    "        GroupAssignment.insert1(dict(next(students), project_number=6, group_id=group_id), \n",
    "                                skip_duplicates=True)"
   ]
  },
  {
   "cell_type": "code",
   "execution_count": 15,
   "id": "754c1b00",
   "metadata": {},
   "outputs": [],
   "source": [
    "dj.config['display.limit'] = 15"
   ]
  },
  {
   "cell_type": "code",
   "execution_count": 16,
   "id": "fc174dbd",
   "metadata": {},
   "outputs": [
    {
     "data": {
      "text/html": [
       "\n",
       "    \n",
       "    <style type=\"text/css\">\n",
       "        .Relation{\n",
       "            border-collapse:collapse;\n",
       "        }\n",
       "        .Relation th{\n",
       "            background: #A0A0A0; color: #ffffff; padding:4px; border:#f0e0e0 1px solid;\n",
       "            font-weight: normal; font-family: monospace; font-size: 100%;\n",
       "        }\n",
       "        .Relation td{\n",
       "            padding:4px; border:#f0e0e0 1px solid; font-size:100%;\n",
       "        }\n",
       "        .Relation tr:nth-child(odd){\n",
       "            background: #ffffff;\n",
       "        }\n",
       "        .Relation tr:nth-child(even){\n",
       "            background: #f3f1ff;\n",
       "        }\n",
       "        /* Tooltip container */\n",
       "        .djtooltip {\n",
       "        }\n",
       "        /* Tooltip text */\n",
       "        .djtooltip .djtooltiptext {\n",
       "            visibility: hidden;\n",
       "            width: 120px;\n",
       "            background-color: black;\n",
       "            color: #fff;\n",
       "            text-align: center;\n",
       "            padding: 5px 0;\n",
       "            border-radius: 6px;\n",
       "            /* Position the tooltip text - see examples below! */\n",
       "            position: absolute;\n",
       "            z-index: 1;\n",
       "        }\n",
       "        #primary {\n",
       "            font-weight: bold;\n",
       "            color: black;\n",
       "        }\n",
       "        #nonprimary {\n",
       "            font-weight: normal;\n",
       "            color: white;\n",
       "        }\n",
       "\n",
       "        /* Show the tooltip text when you mouse over the tooltip container */\n",
       "        .djtooltip:hover .djtooltiptext {\n",
       "            visibility: visible;\n",
       "        }\n",
       "    </style>\n",
       "    \n",
       "    \n",
       "        <div style=\"max-height:1000px;max-width:1500px;overflow:auto;\">\n",
       "        <table border=\"1\" class=\"Relation\">\n",
       "            <thead> <tr style=\"text-align: right;\"> <th> <div class=\"djtooltip\">\n",
       "                            <p id=\"primary\">project_number</p>\n",
       "                            <span class=\"djtooltiptext\"></span>\n",
       "                        </div></th><th><div class=\"djtooltip\">\n",
       "                            <p id=\"primary\">username</p>\n",
       "                            <span class=\"djtooltiptext\"></span>\n",
       "                        </div></th><th><div class=\"djtooltip\">\n",
       "                            <p id=\"nonprimary\">group_id</p>\n",
       "                            <span class=\"djtooltiptext\"></span>\n",
       "                        </div></th><th><div class=\"djtooltip\">\n",
       "                            <p id=\"nonprimary\">project_name</p>\n",
       "                            <span class=\"djtooltiptext\"></span>\n",
       "                        </div></th><th><div class=\"djtooltip\">\n",
       "                            <p id=\"nonprimary\">due_date</p>\n",
       "                            <span class=\"djtooltiptext\"></span>\n",
       "                        </div></th><th><div class=\"djtooltip\">\n",
       "                            <p id=\"nonprimary\">first_name</p>\n",
       "                            <span class=\"djtooltiptext\"></span>\n",
       "                        </div></th><th><div class=\"djtooltip\">\n",
       "                            <p id=\"nonprimary\">last_name</p>\n",
       "                            <span class=\"djtooltiptext\"></span>\n",
       "                        </div> </th> </tr> </thead>\n",
       "            <tbody> <tr> <td>6</td>\n",
       "<td>velasqya</td>\n",
       "<td>4</td>\n",
       "<td>Join Queries</td>\n",
       "<td>2021-11-03</td>\n",
       "<td>Yeison Andres</td>\n",
       "<td>Velasquez</td></tr><tr><td>6</td>\n",
       "<td>vnguyen8</td>\n",
       "<td>4</td>\n",
       "<td>Join Queries</td>\n",
       "<td>2021-11-03</td>\n",
       "<td>Viet</td>\n",
       "<td>Nguyen</td></tr><tr><td>6</td>\n",
       "<td>yzhang3</td>\n",
       "<td>4</td>\n",
       "<td>Join Queries</td>\n",
       "<td>2021-11-03</td>\n",
       "<td>Dora</td>\n",
       "<td>Zhang</td> </tr> </tbody>\n",
       "        </table>\n",
       "        \n",
       "        <p>Total: 3</p></div>\n",
       "        "
      ],
      "text/plain": [
       "*project_numbe *username    group_id     project_name   due_date       first_name     last_name    \n",
       "+------------+ +----------+ +----------+ +------------+ +------------+ +------------+ +-----------+\n",
       "6              velasqya     4            Join Queries   2021-11-03     Yeison Andres  Velasquez    \n",
       "6              vnguyen8     4            Join Queries   2021-11-03     Viet           Nguyen       \n",
       "6              yzhang3      4            Join Queries   2021-11-03     Dora           Zhang        \n",
       " (Total: 3)"
      ]
     },
     "execution_count": 16,
     "metadata": {},
     "output_type": "execute_result"
    }
   ],
   "source": [
    "GroupAssignment * Project * Student & 'project_number=6' & 'group_id=4'"
   ]
  },
  {
   "cell_type": "code",
   "execution_count": null,
   "id": "7a4e3268",
   "metadata": {},
   "outputs": [],
   "source": [
    "for r in GroupAssignment * Project & {'project_number': 4}:\n",
    "    print(\"GRANT SELECT, INSERT, UPDATE, DELETE, CREATE,\" \n",
    "          \"DROP, REFERENCES, INDEX, ALTER, CREATE VIEW,\"\n",
    "          \"SHOW VIEW, CREATE ROUTINE, ALTER ROUTINE \" \n",
    "          \"ON `hw{project_number}_team{group_id}\\_%`.* TO '{username}'@'%';\".format(**r))"
   ]
  },
  {
   "cell_type": "code",
   "execution_count": null,
   "id": "aa84e2b8",
   "metadata": {},
   "outputs": [],
   "source": [
    "GroupAssignment()"
   ]
  },
  {
   "cell_type": "code",
   "execution_count": null,
   "id": "946a3804",
   "metadata": {},
   "outputs": [],
   "source": [
    "GroupAssignment.fetch('KEY')"
   ]
  },
  {
   "cell_type": "code",
   "execution_count": null,
   "id": "ff993315",
   "metadata": {},
   "outputs": [],
   "source": [
    "# student triplets that have been in the same group\n",
    "\n",
    "s1 = Student.proj(u1='username')\n",
    "s2 = Student.proj(u2='username')\n",
    "s3 = Student.proj(u3='username')\n",
    "\n",
    "\n",
    "g1 = (GroupAssignment * dj.U('group_id')).proj(u1='username') \n",
    "g2 = (GroupAssignment * dj.U('group_id')).proj(u2='username')\n",
    "g3 = (GroupAssignment * dj.U('group_id')).proj(u3='username')\n",
    "\n",
    "order = 'u1 < u2 and u2 < u3'\n",
    "\n",
    "\n"
   ]
  },
  {
   "cell_type": "code",
   "execution_count": null,
   "id": "cc3f4e6b",
   "metadata": {},
   "outputs": [],
   "source": [
    "s1 * s2 * s3 & 'u1 < u2' & 'u2 < u3'"
   ]
  },
  {
   "cell_type": "code",
   "execution_count": null,
   "id": "0859fc38",
   "metadata": {},
   "outputs": [],
   "source": [
    "dj.config['display.limit'] = 25"
   ]
  },
  {
   "cell_type": "code",
   "execution_count": null,
   "id": "764274c8",
   "metadata": {},
   "outputs": [],
   "source": [
    "g1 * g2 * g3 & order & '\"hidalgdd\" in (u1, u2, u3)'"
   ]
  },
  {
   "cell_type": "code",
   "execution_count": null,
   "id": "e1e41df1",
   "metadata": {},
   "outputs": [],
   "source": [
    "g1 * g2 * g3"
   ]
  },
  {
   "cell_type": "code",
   "execution_count": null,
   "id": "022aeed3",
   "metadata": {},
   "outputs": [],
   "source": [
    "(GroupAssignment & 'project_number = 9').delete()"
   ]
  },
  {
   "cell_type": "code",
   "execution_count": null,
   "id": "e07deedd",
   "metadata": {},
   "outputs": [],
   "source": [
    "Student()"
   ]
  },
  {
   "cell_type": "code",
   "execution_count": 17,
   "id": "fd904e5a",
   "metadata": {},
   "outputs": [],
   "source": [
    "@schema\n",
    "class Final(dj.Manual):\n",
    "    definition = \"\"\"\n",
    "    final : varchar(18)\n",
    "    \"\"\"\n",
    "    \n",
    "    class Student(dj.Part):\n",
    "        definition = \"\"\"\n",
    "        -> master\n",
    "        -> Student\n",
    "        \"\"\""
   ]
  },
  {
   "cell_type": "code",
   "execution_count": 18,
   "id": "eeb87732",
   "metadata": {},
   "outputs": [],
   "source": [
    "Final.insert(\n",
    "    zip((\"magnificents\", \"black_squares\", \n",
    "         \"not_remote\", \"future_soldiers\")),\n",
    "    skip_duplicates=True)"
   ]
  },
  {
   "cell_type": "code",
   "execution_count": 22,
   "id": "e89a3a74",
   "metadata": {},
   "outputs": [],
   "source": [
    "Final.Student.insert((\n",
    "    (\"black_squares\", \"mhines\"),\n",
    "    (\"black_squares\", \"fuquend\"),\n",
    "    (\"black_squares\", \"llewis1\"),\n",
    "    (\"magnificents\", \"hajdekd\"),\n",
    "    (\"magnificents\", \"byrneg\"),\n",
    "    (\"magnificents\", \"hidalgdd\"),\n",
    "    (\"magnificents\", \"lrharris\"),\n",
    "    (\"not_remote\", \"gallegjj\"),\n",
    "    (\"not_remote\", \"yzhang3\"),\n",
    "    (\"not_remote\", \"shussai\"),\n",
    "    (\"not_remote\", \"abellc\"),\n",
    "    (\"future_soldiers\", \"antonie\"),\n",
    "    (\"future_soldiers\", \"kopinss\"),\n",
    "    (\"future_soldiers\", \"velasqya\")\n",
    "), skip_duplicates=True)"
   ]
  },
  {
   "cell_type": "code",
   "execution_count": 29,
   "id": "61d5bedc",
   "metadata": {},
   "outputs": [
    {
     "data": {
      "text/html": [
       "\n",
       "    \n",
       "    <style type=\"text/css\">\n",
       "        .Relation{\n",
       "            border-collapse:collapse;\n",
       "        }\n",
       "        .Relation th{\n",
       "            background: #A0A0A0; color: #ffffff; padding:4px; border:#f0e0e0 1px solid;\n",
       "            font-weight: normal; font-family: monospace; font-size: 100%;\n",
       "        }\n",
       "        .Relation td{\n",
       "            padding:4px; border:#f0e0e0 1px solid; font-size:100%;\n",
       "        }\n",
       "        .Relation tr:nth-child(odd){\n",
       "            background: #ffffff;\n",
       "        }\n",
       "        .Relation tr:nth-child(even){\n",
       "            background: #f3f1ff;\n",
       "        }\n",
       "        /* Tooltip container */\n",
       "        .djtooltip {\n",
       "        }\n",
       "        /* Tooltip text */\n",
       "        .djtooltip .djtooltiptext {\n",
       "            visibility: hidden;\n",
       "            width: 120px;\n",
       "            background-color: black;\n",
       "            color: #fff;\n",
       "            text-align: center;\n",
       "            padding: 5px 0;\n",
       "            border-radius: 6px;\n",
       "            /* Position the tooltip text - see examples below! */\n",
       "            position: absolute;\n",
       "            z-index: 1;\n",
       "        }\n",
       "        #primary {\n",
       "            font-weight: bold;\n",
       "            color: black;\n",
       "        }\n",
       "        #nonprimary {\n",
       "            font-weight: normal;\n",
       "            color: white;\n",
       "        }\n",
       "\n",
       "        /* Show the tooltip text when you mouse over the tooltip container */\n",
       "        .djtooltip:hover .djtooltiptext {\n",
       "            visibility: visible;\n",
       "        }\n",
       "    </style>\n",
       "    \n",
       "    \n",
       "        <div style=\"max-height:1000px;max-width:1500px;overflow:auto;\">\n",
       "        <table border=\"1\" class=\"Relation\">\n",
       "            <thead> <tr style=\"text-align: right;\"> <th> <div class=\"djtooltip\">\n",
       "                            <p id=\"primary\">final</p>\n",
       "                            <span class=\"djtooltiptext\"></span>\n",
       "                        </div></th><th><div class=\"djtooltip\">\n",
       "                            <p id=\"primary\">username</p>\n",
       "                            <span class=\"djtooltiptext\"></span>\n",
       "                        </div></th><th><div class=\"djtooltip\">\n",
       "                            <p id=\"nonprimary\">name</p>\n",
       "                            <span class=\"djtooltiptext\">calculated attribute</span>\n",
       "                        </div> </th> </tr> </thead>\n",
       "            <tbody> <tr> <td>black_squares</td>\n",
       "<td>fuquend</td>\n",
       "<td>Daniela Fuquene</td></tr><tr><td>black_squares</td>\n",
       "<td>llewis1</td>\n",
       "<td>Lareisha Lewis</td></tr><tr><td>black_squares</td>\n",
       "<td>mhines</td>\n",
       "<td>Michael Hines</td></tr><tr><td>future_soldiers</td>\n",
       "<td>antonie</td>\n",
       "<td>Elton Jose Carlos Antonio</td></tr><tr><td>future_soldiers</td>\n",
       "<td>kopinss</td>\n",
       "<td>Sebastian Kopinsky</td></tr><tr><td>future_soldiers</td>\n",
       "<td>velasqya</td>\n",
       "<td>Yeison Andres Velasquez</td></tr><tr><td>magnificents</td>\n",
       "<td>byrneg</td>\n",
       "<td>Garrick T. Byrne</td></tr><tr><td>magnificents</td>\n",
       "<td>hajdekd</td>\n",
       "<td>Dalibor Hajdek</td></tr><tr><td>magnificents</td>\n",
       "<td>hidalgdd</td>\n",
       "<td>Diana D. Hidalgo</td></tr><tr><td>magnificents</td>\n",
       "<td>lrharris</td>\n",
       "<td>Lacey R Harris</td></tr><tr><td>not_remote</td>\n",
       "<td>abellc</td>\n",
       "<td>Creed Wills Abell</td></tr><tr><td>not_remote</td>\n",
       "<td>gallegjj</td>\n",
       "<td>Juan J Gallegos</td></tr><tr><td>not_remote</td>\n",
       "<td>shussai</td>\n",
       "<td>Syed Kamran Hussain</td></tr><tr><td>not_remote</td>\n",
       "<td>yzhang3</td>\n",
       "<td>Dora Zhang</td> </tr> </tbody>\n",
       "        </table>\n",
       "        \n",
       "        <p>Total: 14</p></div>\n",
       "        "
      ],
      "text/plain": [
       "*final         *username    name          \n",
       "+------------+ +----------+ +------------+\n",
       "black_squares  fuquend      Daniela Fuquen\n",
       "black_squares  llewis1      Lareisha Lewis\n",
       "black_squares  mhines       Michael Hines \n",
       "future_soldier antonie      Elton Jose Car\n",
       "future_soldier kopinss      Sebastian Kopi\n",
       "future_soldier velasqya     Yeison Andres \n",
       "magnificents   byrneg       Garrick T. Byr\n",
       "magnificents   hajdekd      Dalibor Hajdek\n",
       "magnificents   hidalgdd     Diana D. Hidal\n",
       "magnificents   lrharris     Lacey R Harris\n",
       "not_remote     abellc       Creed Wills Ab\n",
       "not_remote     gallegjj     Juan J Gallego\n",
       "not_remote     shussai      Syed Kamran Hu\n",
       "not_remote     yzhang3      Dora Zhang    \n",
       " (Total: 14)"
      ]
     },
     "execution_count": 29,
     "metadata": {},
     "output_type": "execute_result"
    }
   ],
   "source": [
    "dj.config['display.limit'] = 15\n",
    "Final.Student() * Student.proj(name='concat(first_name, \" \", last_name)')"
   ]
  },
  {
   "cell_type": "code",
   "execution_count": 24,
   "id": "e4495471",
   "metadata": {},
   "outputs": [
    {
     "data": {
      "text/html": [
       "\n",
       "    \n",
       "    <style type=\"text/css\">\n",
       "        .Relation{\n",
       "            border-collapse:collapse;\n",
       "        }\n",
       "        .Relation th{\n",
       "            background: #A0A0A0; color: #ffffff; padding:4px; border:#f0e0e0 1px solid;\n",
       "            font-weight: normal; font-family: monospace; font-size: 100%;\n",
       "        }\n",
       "        .Relation td{\n",
       "            padding:4px; border:#f0e0e0 1px solid; font-size:100%;\n",
       "        }\n",
       "        .Relation tr:nth-child(odd){\n",
       "            background: #ffffff;\n",
       "        }\n",
       "        .Relation tr:nth-child(even){\n",
       "            background: #f3f1ff;\n",
       "        }\n",
       "        /* Tooltip container */\n",
       "        .djtooltip {\n",
       "        }\n",
       "        /* Tooltip text */\n",
       "        .djtooltip .djtooltiptext {\n",
       "            visibility: hidden;\n",
       "            width: 120px;\n",
       "            background-color: black;\n",
       "            color: #fff;\n",
       "            text-align: center;\n",
       "            padding: 5px 0;\n",
       "            border-radius: 6px;\n",
       "            /* Position the tooltip text - see examples below! */\n",
       "            position: absolute;\n",
       "            z-index: 1;\n",
       "        }\n",
       "        #primary {\n",
       "            font-weight: bold;\n",
       "            color: black;\n",
       "        }\n",
       "        #nonprimary {\n",
       "            font-weight: normal;\n",
       "            color: white;\n",
       "        }\n",
       "\n",
       "        /* Show the tooltip text when you mouse over the tooltip container */\n",
       "        .djtooltip:hover .djtooltiptext {\n",
       "            visibility: visible;\n",
       "        }\n",
       "    </style>\n",
       "    \n",
       "    <b></b>\n",
       "        <div style=\"max-height:1000px;max-width:1500px;overflow:auto;\">\n",
       "        <table border=\"1\" class=\"Relation\">\n",
       "            <thead> <tr style=\"text-align: right;\"> <th> <div class=\"djtooltip\">\n",
       "                            <p id=\"primary\">username</p>\n",
       "                            <span class=\"djtooltiptext\"></span>\n",
       "                        </div></th><th><div class=\"djtooltip\">\n",
       "                            <p id=\"nonprimary\">first_name</p>\n",
       "                            <span class=\"djtooltiptext\"></span>\n",
       "                        </div></th><th><div class=\"djtooltip\">\n",
       "                            <p id=\"nonprimary\">last_name</p>\n",
       "                            <span class=\"djtooltiptext\"></span>\n",
       "                        </div> </th> </tr> </thead>\n",
       "            <tbody> <tr> <td>vnguyen8</td>\n",
       "<td>Viet</td>\n",
       "<td>Nguyen</td> </tr> </tbody>\n",
       "        </table>\n",
       "        \n",
       "        <p>Total: 1</p></div>\n",
       "        "
      ],
      "text/plain": [
       "*username    first_name     last_name    \n",
       "+----------+ +------------+ +-----------+\n",
       "vnguyen8     Viet           Nguyen       \n",
       " (Total: 1)"
      ]
     },
     "execution_count": 24,
     "metadata": {},
     "output_type": "execute_result"
    }
   ],
   "source": [
    "unassigned = Student - Final.Student\n",
    "unassigned"
   ]
  },
  {
   "cell_type": "code",
   "execution_count": 30,
   "id": "6282c836",
   "metadata": {},
   "outputs": [
    {
     "name": "stdout",
     "output_type": "stream",
     "text": [
      "GRANT SELECT, INSERT, UPDATE, DELETE, CREATE, DROP, REFERENCES, INDEX, ALTER, CREATE VIEW, SHOW VIEW, CREATE ROUTINE, ALTER ROUTINE ON `black_squares\\_%`.* TO 'fuquend'@'%';\n",
      "GRANT SELECT, INSERT, UPDATE, DELETE, CREATE, DROP, REFERENCES, INDEX, ALTER, CREATE VIEW, SHOW VIEW, CREATE ROUTINE, ALTER ROUTINE ON `black_squares\\_%`.* TO 'llewis1'@'%';\n",
      "GRANT SELECT, INSERT, UPDATE, DELETE, CREATE, DROP, REFERENCES, INDEX, ALTER, CREATE VIEW, SHOW VIEW, CREATE ROUTINE, ALTER ROUTINE ON `black_squares\\_%`.* TO 'mhines'@'%';\n",
      "GRANT SELECT, INSERT, UPDATE, DELETE, CREATE, DROP, REFERENCES, INDEX, ALTER, CREATE VIEW, SHOW VIEW, CREATE ROUTINE, ALTER ROUTINE ON `future_soldiers\\_%`.* TO 'antonie'@'%';\n",
      "GRANT SELECT, INSERT, UPDATE, DELETE, CREATE, DROP, REFERENCES, INDEX, ALTER, CREATE VIEW, SHOW VIEW, CREATE ROUTINE, ALTER ROUTINE ON `future_soldiers\\_%`.* TO 'kopinss'@'%';\n",
      "GRANT SELECT, INSERT, UPDATE, DELETE, CREATE, DROP, REFERENCES, INDEX, ALTER, CREATE VIEW, SHOW VIEW, CREATE ROUTINE, ALTER ROUTINE ON `future_soldiers\\_%`.* TO 'velasqya'@'%';\n",
      "GRANT SELECT, INSERT, UPDATE, DELETE, CREATE, DROP, REFERENCES, INDEX, ALTER, CREATE VIEW, SHOW VIEW, CREATE ROUTINE, ALTER ROUTINE ON `magnificents\\_%`.* TO 'byrneg'@'%';\n",
      "GRANT SELECT, INSERT, UPDATE, DELETE, CREATE, DROP, REFERENCES, INDEX, ALTER, CREATE VIEW, SHOW VIEW, CREATE ROUTINE, ALTER ROUTINE ON `magnificents\\_%`.* TO 'hajdekd'@'%';\n",
      "GRANT SELECT, INSERT, UPDATE, DELETE, CREATE, DROP, REFERENCES, INDEX, ALTER, CREATE VIEW, SHOW VIEW, CREATE ROUTINE, ALTER ROUTINE ON `magnificents\\_%`.* TO 'hidalgdd'@'%';\n",
      "GRANT SELECT, INSERT, UPDATE, DELETE, CREATE, DROP, REFERENCES, INDEX, ALTER, CREATE VIEW, SHOW VIEW, CREATE ROUTINE, ALTER ROUTINE ON `magnificents\\_%`.* TO 'lrharris'@'%';\n",
      "GRANT SELECT, INSERT, UPDATE, DELETE, CREATE, DROP, REFERENCES, INDEX, ALTER, CREATE VIEW, SHOW VIEW, CREATE ROUTINE, ALTER ROUTINE ON `not_remote\\_%`.* TO 'abellc'@'%';\n",
      "GRANT SELECT, INSERT, UPDATE, DELETE, CREATE, DROP, REFERENCES, INDEX, ALTER, CREATE VIEW, SHOW VIEW, CREATE ROUTINE, ALTER ROUTINE ON `not_remote\\_%`.* TO 'gallegjj'@'%';\n",
      "GRANT SELECT, INSERT, UPDATE, DELETE, CREATE, DROP, REFERENCES, INDEX, ALTER, CREATE VIEW, SHOW VIEW, CREATE ROUTINE, ALTER ROUTINE ON `not_remote\\_%`.* TO 'shussai'@'%';\n",
      "GRANT SELECT, INSERT, UPDATE, DELETE, CREATE, DROP, REFERENCES, INDEX, ALTER, CREATE VIEW, SHOW VIEW, CREATE ROUTINE, ALTER ROUTINE ON `not_remote\\_%`.* TO 'yzhang3'@'%';\n"
     ]
    }
   ],
   "source": [
    "for q in Final.Student():\n",
    "     print(\"GRANT SELECT, INSERT, UPDATE, DELETE, CREATE,\"\n",
    "           \" DROP, REFERENCES, INDEX, ALTER, CREATE VIEW,\" \n",
    "           \" SHOW VIEW, CREATE ROUTINE, ALTER ROUTINE\"\n",
    "           \" ON `{final}\\_%`.* TO '{username}'@'%';\".format(**q))"
   ]
  },
  {
   "cell_type": "code",
   "execution_count": null,
   "id": "9c568f0c",
   "metadata": {},
   "outputs": [],
   "source": [
    "for name, password in creds:\n",
    "    print(f\"GRANT SELECT, INSERT, UPDATE, DELETE, \"\n",
    "          f\"CREATE, DROP, REFERENCES, INDEX, ALTER, \"\n",
    "          f\"CREATE VIEW, SHOW VIEW, CREATE ROUTINE, ALTER ROUTINE \"\n",
    "          f\"ON `{name}\\_%`.* TO '{name}'@'%';\")"
   ]
  },
  {
   "cell_type": "code",
   "execution_count": null,
   "id": "58490914",
   "metadata": {},
   "outputs": [],
   "source": [
    "# make new teams that have never been together\n",
    "\n",
    "assigned = set()\n",
    "project = 9\n",
    "group = 0\n",
    "for u1, u2, u3, n in zip(*teammates.fetch('u1', 'u2', 'u3', 'n', order_by='n')):\n",
    "    if not assigned & {u1, u2, u3}:\n",
    "        try:\n",
    "            GroupAssignment.insert(\n",
    "                dict(project_number=project, group_id=group, username=user)\n",
    "                for user in (u1, u2, u3))\n",
    "        except dj.errors.DuplicateError:\n",
    "            pass\n",
    "        else:\n",
    "            group += 1\n",
    "            assigned.update({u1, u2, u3})\n",
    "            print(u1, u2, u3)\n",
    "        \n",
    "        \n",
    "assert len(assigned)==len(Student()), 'some students have not been assigned'"
   ]
  },
  {
   "cell_type": "code",
   "execution_count": null,
   "id": "1da4ab6d",
   "metadata": {},
   "outputs": [],
   "source": [
    "GroupAssignment & 'project_number=9'"
   ]
  },
  {
   "cell_type": "code",
   "execution_count": null,
   "id": "6b36f937",
   "metadata": {},
   "outputs": [],
   "source": [
    "(GroupAssignment() & 'project_number=7').delete()"
   ]
  },
  {
   "cell_type": "code",
   "execution_count": null,
   "id": "ee516282",
   "metadata": {},
   "outputs": [],
   "source": [
    "GroupAssignment() & 'project_number=7'"
   ]
  },
  {
   "cell_type": "code",
   "execution_count": null,
   "id": "06300e18",
   "metadata": {},
   "outputs": [],
   "source": [
    "teammates & 'u1 < u2' & 'u2 < u3'"
   ]
  },
  {
   "cell_type": "code",
   "execution_count": null,
   "id": "09c242c5",
   "metadata": {},
   "outputs": [],
   "source": [
    "GroupAssignment() & dj.top(3, order_by='')"
   ]
  },
  {
   "cell_type": "code",
   "execution_count": null,
   "id": "7308d089",
   "metadata": {},
   "outputs": [],
   "source": [
    "teammates & order"
   ]
  },
  {
   "cell_type": "code",
   "execution_count": null,
   "id": "2195bf50",
   "metadata": {},
   "outputs": [],
   "source": [
    "teammates & order & 'u1=\"abellc\"'"
   ]
  },
  {
   "cell_type": "code",
   "execution_count": null,
   "id": "7e9b231b",
   "metadata": {},
   "outputs": [],
   "source": [
    "GroupAssignment() & 'username=\"abellc\"'"
   ]
  },
  {
   "cell_type": "code",
   "execution_count": null,
   "id": "429a6ffa",
   "metadata": {},
   "outputs": [],
   "source": [
    "Student()"
   ]
  },
  {
   "cell_type": "code",
   "execution_count": null,
   "id": "acf2a610",
   "metadata": {},
   "outputs": [],
   "source": [
    "teammates & order"
   ]
  },
  {
   "cell_type": "code",
   "execution_count": 10,
   "id": "6a9da709",
   "metadata": {},
   "outputs": [
    {
     "data": {
      "text/html": [
       "\n",
       "    \n",
       "    <style type=\"text/css\">\n",
       "        .Relation{\n",
       "            border-collapse:collapse;\n",
       "        }\n",
       "        .Relation th{\n",
       "            background: #A0A0A0; color: #ffffff; padding:4px; border:#f0e0e0 1px solid;\n",
       "            font-weight: normal; font-family: monospace; font-size: 100%;\n",
       "        }\n",
       "        .Relation td{\n",
       "            padding:4px; border:#f0e0e0 1px solid; font-size:100%;\n",
       "        }\n",
       "        .Relation tr:nth-child(odd){\n",
       "            background: #ffffff;\n",
       "        }\n",
       "        .Relation tr:nth-child(even){\n",
       "            background: #f3f1ff;\n",
       "        }\n",
       "        /* Tooltip container */\n",
       "        .djtooltip {\n",
       "        }\n",
       "        /* Tooltip text */\n",
       "        .djtooltip .djtooltiptext {\n",
       "            visibility: hidden;\n",
       "            width: 120px;\n",
       "            background-color: black;\n",
       "            color: #fff;\n",
       "            text-align: center;\n",
       "            padding: 5px 0;\n",
       "            border-radius: 6px;\n",
       "            /* Position the tooltip text - see examples below! */\n",
       "            position: absolute;\n",
       "            z-index: 1;\n",
       "        }\n",
       "        #primary {\n",
       "            font-weight: bold;\n",
       "            color: black;\n",
       "        }\n",
       "        #nonprimary {\n",
       "            font-weight: normal;\n",
       "            color: white;\n",
       "        }\n",
       "\n",
       "        /* Show the tooltip text when you mouse over the tooltip container */\n",
       "        .djtooltip:hover .djtooltiptext {\n",
       "            visibility: visible;\n",
       "        }\n",
       "    </style>\n",
       "    \n",
       "    <b></b>\n",
       "        <div style=\"max-height:1000px;max-width:1500px;overflow:auto;\">\n",
       "        <table border=\"1\" class=\"Relation\">\n",
       "            <thead> <tr style=\"text-align: right;\"> <th> <div class=\"djtooltip\">\n",
       "                            <p id=\"primary\">project_number</p>\n",
       "                            <span class=\"djtooltiptext\"></span>\n",
       "                        </div></th><th><div class=\"djtooltip\">\n",
       "                            <p id=\"primary\">username</p>\n",
       "                            <span class=\"djtooltiptext\"></span>\n",
       "                        </div></th><th><div class=\"djtooltip\">\n",
       "                            <p id=\"nonprimary\">group_id</p>\n",
       "                            <span class=\"djtooltiptext\"></span>\n",
       "                        </div> </th> </tr> </thead>\n",
       "            <tbody> <tr> <td>8</td>\n",
       "<td>abellc</td>\n",
       "<td>2</td></tr><tr><td>8</td>\n",
       "<td>velasqya</td>\n",
       "<td>2</td></tr><tr><td>8</td>\n",
       "<td>vnguyen8</td>\n",
       "<td>2</td> </tr> </tbody>\n",
       "        </table>\n",
       "        \n",
       "        <p>Total: 3</p></div>\n",
       "        "
      ],
      "text/plain": [
       "*project_numbe *username    group_id    \n",
       "+------------+ +----------+ +----------+\n",
       "8              abellc       2           \n",
       "8              velasqya     2           \n",
       "8              vnguyen8     2           \n",
       " (Total: 3)"
      ]
     },
     "execution_count": 10,
     "metadata": {},
     "output_type": "execute_result"
    }
   ],
   "source": [
    "GroupAssignment() & 'project_number=8' & 'group_id=2'"
   ]
  },
  {
   "cell_type": "code",
   "execution_count": null,
   "id": "abe681d9",
   "metadata": {},
   "outputs": [],
   "source": []
  }
 ],
 "metadata": {
  "kernelspec": {
   "display_name": "Python 3",
   "language": "python",
   "name": "python3"
  },
  "language_info": {
   "codemirror_mode": {
    "name": "ipython",
    "version": 3
   },
   "file_extension": ".py",
   "mimetype": "text/x-python",
   "name": "python",
   "nbconvert_exporter": "python",
   "pygments_lexer": "ipython3",
   "version": "3.9.7"
  }
 },
 "nbformat": 4,
 "nbformat_minor": 5
}
