{
 "cells": [
  {
   "cell_type": "markdown",
   "metadata": {},
   "source": [
    "# Homework 5.  Simple Queries\n",
    "\n",
    "In this project, you will design simple queries that rely on relational restriction and projection. Some restrictions may require a subquery.\n",
    "\n",
    "We will use the App database that was designed and populated in [004-Design](./004-Design.ipnb`). "
   ]
  },
  {
   "cell_type": "code",
   "execution_count": null,
   "metadata": {},
   "outputs": [],
   "source": [
    "import datajoint as dj\n",
    "schema = dj.Schema('app')\n",
    "schema.spawn_missing_classes()\n",
    "dj.Diagram(schema)"
   ]
  },
  {
   "cell_type": "markdown",
   "metadata": {},
   "source": [
    "#### Problem 1 (solved). All accounts last_names for persons named \"Paul\" or \"Paula\" born in the 1990s"
   ]
  },
  {
   "cell_type": "code",
   "execution_count": null,
   "metadata": {},
   "outputs": [],
   "source": [
    "\n",
    "Account & 'first_name in (\"Paul\", \"Paula\")' & 'year(dob) between 1990 and 1999'"
   ]
  },
  {
   "cell_type": "markdown",
   "metadata": {},
   "source": [
    "#### Problem 2:  Show the 10 youngest males whose last names start with \"Ra\"\n",
    "Hint: Look into the use of wildcard pattern matching in MySQL https://dev.mysql.com/doc/refman/8.0/en/pattern-matching.html"
   ]
  },
  {
   "cell_type": "markdown",
   "metadata": {},
   "source": [
    "#### Problem 3: Show full names of the people who omitted their date of birth. Sort them alphabetically by last name / first name.  Show the first 10 only.\n",
    "Hint: look into the use of string https://dev.mysql.com/doc/refman/8.0/en/string-functions.html\n",
    "\n",
    "Hint: Comparing to NULL, use `IS NULL` or `IS NOT NULL` https://dev.mysql.com/doc/refman/8.0/en/working-with-null.html"
   ]
  },
  {
   "cell_type": "markdown",
   "metadata": {},
   "source": [
    "#### Problem 4: Show the full names of all females born in June, also showing their age in years. Sort by last name / first name and show the first 10 only.\n",
    "Hint: look into date functions https://dev.mysql.com/doc/refman/8.0/en/date-and-time-functions.html"
   ]
  },
  {
   "cell_type": "markdown",
   "metadata": {},
   "source": [
    "#### Problem 5: Show the full information of the youngest person who has a credit card."
   ]
  },
  {
   "cell_type": "markdown",
   "metadata": {},
   "source": [
    "#### Problem 6: Show the full information of the oldest person who does not have a credit card."
   ]
  },
  {
   "cell_type": "markdown",
   "metadata": {},
   "source": [
    "#### Problem 7: Show the first 10 customers who purchased the \"Sprint\" addon, including their age in years."
   ]
  },
  {
   "cell_type": "markdown",
   "metadata": {},
   "source": []
  }
 ],
 "metadata": {
  "kernelspec": {
   "display_name": "Python 3",
   "language": "python",
   "name": "python3"
  },
  "language_info": {
   "codemirror_mode": {
    "name": "ipython",
    "version": 3
   },
   "file_extension": ".py",
   "mimetype": "text/x-python",
   "name": "python",
   "nbconvert_exporter": "python",
   "pygments_lexer": "ipython3",
   "version": "3.9.17"
  },
  "orig_nbformat": 4
 },
 "nbformat": 4,
 "nbformat_minor": 2
}
