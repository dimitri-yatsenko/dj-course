{
 "cells": [
  {
   "cell_type": "markdown",
   "metadata": {},
   "source": [
    "# Homework 4\n",
    "\n",
    "Design schemas for the following database designs.\n",
    "* Make sure that the tables have a proper primary key that correctly enforces *entity integrity*.\n",
    "* Make sure that the table has all the required columns with appropriate data types  and null constraints\n",
    "* Introduce appropriate foreign key to enforce the constraints.\n",
    "* Include an insert statement to populate a few entries into each table but you do not need to completely fill the tables.\n",
    "* Follow best conventions and practices we discussed in class.\n",
    "* Ensure that your schema is in 3rd normal form.\n",
    "* Execute the entire assignment in one notebook, print it and submit the PDF to the instructor by Slack.\n",
    "\n",
    "\n",
    "For the general database course, you can complete the assignment in DataJoint or you can use `pymysql` or Jupyter SQL Magic to interact with the database."
   ]
  },
  {
   "cell_type": "markdown",
   "metadata": {},
   "source": [
    "### Problem 1: \"Grading\" \n",
    "Design a database that handles assignments and grades in this course.\n",
    "\n",
    "1. Students in this class.\n",
    "2. Assignments in this class, including a link to its specification.\n",
    "3. If assignment has been graded, store the grade for each student and each assignment."
   ]
  },
  {
   "cell_type": "markdown",
   "metadata": {},
   "source": [
    "### Problem 2: \"The Library\" \n",
    "Design a database to track books in a library. You may want to learn how real libraries identify different copies of the same book.\n",
    "\n",
    "1. Books have an ISBN but multiple copies of the same title may exist.\n",
    "2. The library has members. They have a name and an address.\n",
    "3. A library member can check out any book, include the checkout date.\n",
    "4. The book may not be checked out by two people at the same time.\n",
    "5. Some books are not checked out."
   ]
  },
  {
   "cell_type": "markdown",
   "metadata": {},
   "source": [
    "### Problem 3: \"The Bank\"\n",
    "Design a database to represent a bank, its branches, its customers and their banking accounts.\n",
    "\n",
    "1. A bank has branches that have a phone and a street address.\n",
    "1. The Bank has customers.\n",
    "2. Each customer has one \"home branch.\"\n",
    "2. The bank manages bank accounts, which can be either \"savings\" or \"checking.\"\n",
    "3. Each account has exactly one customer as its owner.\n",
    "\n"
   ]
  },
  {
   "cell_type": "markdown",
   "metadata": {},
   "source": [
    "### Problem 4: \"The Phone App\"\n",
    "\n",
    "You are designing a smart phone app. Create a database to enforce the following rules.\n",
    "\n",
    "1. Users can subscribe for a free account identified by their US phone number without extensions. Provide first and last name, date of birth (optional), and sex (optional).\n",
    "2. Users can add one or more credits cards to their account. Store zipcode, expiration date, and the CVV.\n",
    "3. The app has paid add-ons called \"Track & Field\", \"Marathon\", and \"Sprint\", each with a fixed price.\n",
    "4. A user can purchase each add-on, in which case she must provide a credit card for the purchase. A user cannot purchase the same addon twice."
   ]
  }
 ],
 "metadata": {
  "language_info": {
   "name": "python"
  },
  "orig_nbformat": 4
 },
 "nbformat": 4,
 "nbformat_minor": 2
}
